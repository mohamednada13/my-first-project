{
 "cells": [
  {
   "cell_type": "markdown",
   "metadata": {},
   "source": [
    "# Project: Investigate a Dataset (Gapminder World)\n",
    "## Table of Contents\n",
    "<ul>\n",
    "<li><a href=\"#intro\">Introduction</a></li>\n",
    "<li><a href=\"#wrangling\">Data Wrangling</a></li>\n",
    "<li><a href=\"#eda\">Exploratory Data Analysis</a></li>\n",
    "<li><a href=\"#conclusions\">Conclusions</a></li>\n",
    "</ul>"
   ]
  },
  {
   "cell_type": "markdown",
   "metadata": {},
   "source": [
    "# <a id='intro'></a>\n",
    "## Introduction\n",
    "\n",
    "Data Set Name :Gapminder World\n",
    "\n",
    "Investigate some indicators about how people live their lives in different countires tracked acroos years the indicators will be analysed are :\n",
    ">\n",
    "#### 1-Total population.<br>\n",
    "#### 2-Income per per person (Gross domestic product per person).<br>\n",
    "#### 3-Total GDP (Gross domestic converted to international dollars using purchasing power).<br>\n",
    "#### 4-Death rate (the average number of death per 1000 population).<br>\n",
    "#### 5-Birth rate (the average number of birth per 1000 population).<br>\n",
    ">\n",
    "This investigation try to answer this question  have certain regions\n",
    "of the world been growing in better than others? are there trends that can be observed between the selected in indicators?"
   ]
  },
  {
   "cell_type": "code",
   "execution_count": 1,
   "metadata": {},
   "outputs": [],
   "source": [
    "import numpy as np\n",
    "import pandas as pd\n",
    "import matplotlib.pyplot as plt\n",
    "import seaborn as sns\n",
    "%matplotlib inline"
   ]
  },
  {
   "cell_type": "markdown",
   "metadata": {},
   "source": [
    "<a id='wrangling'></a>\n",
    "## Data Wrangling\n",
    "\n",
    "### General Properties"
   ]
  },
  {
   "cell_type": "code",
   "execution_count": 2,
   "metadata": {},
   "outputs": [],
   "source": [
    "# Load your data and print out a few lines. Perform operations to inspect data\n",
    "#   types and look for instances of missing or possibly errant data.\n",
    "df_population= pd.read_csv('population_total.csv')\n",
    "df_income=pd.read_csv('income_per_person.csv')\n",
    "df_total_gdp=pd.read_csv('total_gdp_us_inflation_adjusted.csv')\n",
    "df_death_rate=pd.read_csv('crude_death_rate_deaths_per_1000_population.csv')\n",
    "df_birth_rate=pd.read_csv('sp_dyn_cbrt_in.csv')"
   ]
  },
  {
   "cell_type": "code",
   "execution_count": 3,
   "metadata": {},
   "outputs": [
    {
     "name": "stdout",
     "output_type": "stream",
     "text": [
      "(195, 302) (193, 242) (191, 61) (184, 151) (192, 60)\n"
     ]
    }
   ],
   "source": [
    "#checking the shape for all the data sets\n",
    "print(df_population.shape,df_income.shape, df_total_gdp.shape, df_death_rate.shape, df_birth_rate.shape)"
   ]
  },
  {
   "cell_type": "markdown",
   "metadata": {},
   "source": [
    "## diffrent shape issue"
   ]
  },
  {
   "cell_type": "markdown",
   "metadata": {},
   "source": [
    "# cheaking for the five indicators :"
   ]
  },
  {
   "cell_type": "markdown",
   "metadata": {},
   "source": [
    "## population data set :"
   ]
  },
  {
   "cell_type": "code",
   "execution_count": 4,
   "metadata": {},
   "outputs": [
    {
     "data": {
      "text/html": [
       "<div>\n",
       "<style scoped>\n",
       "    .dataframe tbody tr th:only-of-type {\n",
       "        vertical-align: middle;\n",
       "    }\n",
       "\n",
       "    .dataframe tbody tr th {\n",
       "        vertical-align: top;\n",
       "    }\n",
       "\n",
       "    .dataframe thead th {\n",
       "        text-align: right;\n",
       "    }\n",
       "</style>\n",
       "<table border=\"1\" class=\"dataframe\">\n",
       "  <thead>\n",
       "    <tr style=\"text-align: right;\">\n",
       "      <th></th>\n",
       "      <th>country</th>\n",
       "      <th>1800</th>\n",
       "      <th>1801</th>\n",
       "      <th>1802</th>\n",
       "      <th>1803</th>\n",
       "      <th>1804</th>\n",
       "      <th>1805</th>\n",
       "      <th>1806</th>\n",
       "      <th>1807</th>\n",
       "      <th>1808</th>\n",
       "      <th>...</th>\n",
       "      <th>2091</th>\n",
       "      <th>2092</th>\n",
       "      <th>2093</th>\n",
       "      <th>2094</th>\n",
       "      <th>2095</th>\n",
       "      <th>2096</th>\n",
       "      <th>2097</th>\n",
       "      <th>2098</th>\n",
       "      <th>2099</th>\n",
       "      <th>2100</th>\n",
       "    </tr>\n",
       "  </thead>\n",
       "  <tbody>\n",
       "    <tr>\n",
       "      <th>0</th>\n",
       "      <td>Afghanistan</td>\n",
       "      <td>3280000</td>\n",
       "      <td>3280000</td>\n",
       "      <td>3280000</td>\n",
       "      <td>3280000</td>\n",
       "      <td>3280000</td>\n",
       "      <td>3280000</td>\n",
       "      <td>3280000</td>\n",
       "      <td>3280000</td>\n",
       "      <td>3280000</td>\n",
       "      <td>...</td>\n",
       "      <td>76600000</td>\n",
       "      <td>76400000</td>\n",
       "      <td>76300000</td>\n",
       "      <td>76100000</td>\n",
       "      <td>76000000</td>\n",
       "      <td>75800000</td>\n",
       "      <td>75600000</td>\n",
       "      <td>75400000</td>\n",
       "      <td>75200000</td>\n",
       "      <td>74900000</td>\n",
       "    </tr>\n",
       "  </tbody>\n",
       "</table>\n",
       "<p>1 rows × 302 columns</p>\n",
       "</div>"
      ],
      "text/plain": [
       "       country     1800     1801     1802     1803     1804     1805     1806  \\\n",
       "0  Afghanistan  3280000  3280000  3280000  3280000  3280000  3280000  3280000   \n",
       "\n",
       "      1807     1808  ...      2091      2092      2093      2094      2095  \\\n",
       "0  3280000  3280000  ...  76600000  76400000  76300000  76100000  76000000   \n",
       "\n",
       "       2096      2097      2098      2099      2100  \n",
       "0  75800000  75600000  75400000  75200000  74900000  \n",
       "\n",
       "[1 rows x 302 columns]"
      ]
     },
     "execution_count": 4,
     "metadata": {},
     "output_type": "execute_result"
    }
   ],
   "source": [
    "#checking sample\n",
    "df_population.head(1)"
   ]
  },
  {
   "cell_type": "code",
   "execution_count": 5,
   "metadata": {},
   "outputs": [
    {
     "data": {
      "text/plain": [
       "0"
      ]
     },
     "execution_count": 5,
     "metadata": {},
     "output_type": "execute_result"
    }
   ],
   "source": [
    "#checkin for duplication \n",
    "df_population.duplicated().sum()"
   ]
  },
  {
   "cell_type": "code",
   "execution_count": 6,
   "metadata": {},
   "outputs": [
    {
     "name": "stdout",
     "output_type": "stream",
     "text": [
      "<class 'pandas.core.frame.DataFrame'>\n",
      "RangeIndex: 195 entries, 0 to 194\n",
      "Columns: 302 entries, country to 2100\n",
      "dtypes: int64(301), object(1)\n",
      "memory usage: 460.2+ KB\n"
     ]
    }
   ],
   "source": [
    "#chicking general info\n",
    "df_population.info()"
   ]
  },
  {
   "cell_type": "code",
   "execution_count": 7,
   "metadata": {},
   "outputs": [
    {
     "data": {
      "text/plain": [
       "0"
      ]
     },
     "execution_count": 7,
     "metadata": {},
     "output_type": "execute_result"
    }
   ],
   "source": [
    "#chicking for missing values\n",
    "sum(df_population.isnull().sum())"
   ]
  },
  {
   "cell_type": "code",
   "execution_count": 8,
   "metadata": {},
   "outputs": [
    {
     "data": {
      "text/plain": [
       "True"
      ]
     },
     "execution_count": 8,
     "metadata": {},
     "output_type": "execute_result"
    }
   ],
   "source": [
    "#chicking for dupliction in country column \n",
    "df_population['country'].nunique() == df_population['country'].count()"
   ]
  },
  {
   "cell_type": "markdown",
   "metadata": {},
   "source": [
    "## income data set :"
   ]
  },
  {
   "cell_type": "code",
   "execution_count": 9,
   "metadata": {},
   "outputs": [
    {
     "data": {
      "text/html": [
       "<div>\n",
       "<style scoped>\n",
       "    .dataframe tbody tr th:only-of-type {\n",
       "        vertical-align: middle;\n",
       "    }\n",
       "\n",
       "    .dataframe tbody tr th {\n",
       "        vertical-align: top;\n",
       "    }\n",
       "\n",
       "    .dataframe thead th {\n",
       "        text-align: right;\n",
       "    }\n",
       "</style>\n",
       "<table border=\"1\" class=\"dataframe\">\n",
       "  <thead>\n",
       "    <tr style=\"text-align: right;\">\n",
       "      <th></th>\n",
       "      <th>country</th>\n",
       "      <th>1800</th>\n",
       "      <th>1801</th>\n",
       "      <th>1802</th>\n",
       "      <th>1803</th>\n",
       "      <th>1804</th>\n",
       "      <th>1805</th>\n",
       "      <th>1806</th>\n",
       "      <th>1807</th>\n",
       "      <th>1808</th>\n",
       "      <th>...</th>\n",
       "      <th>2031</th>\n",
       "      <th>2032</th>\n",
       "      <th>2033</th>\n",
       "      <th>2034</th>\n",
       "      <th>2035</th>\n",
       "      <th>2036</th>\n",
       "      <th>2037</th>\n",
       "      <th>2038</th>\n",
       "      <th>2039</th>\n",
       "      <th>2040</th>\n",
       "    </tr>\n",
       "  </thead>\n",
       "  <tbody>\n",
       "    <tr>\n",
       "      <th>0</th>\n",
       "      <td>Afghanistan</td>\n",
       "      <td>603</td>\n",
       "      <td>603</td>\n",
       "      <td>603</td>\n",
       "      <td>603</td>\n",
       "      <td>603</td>\n",
       "      <td>603</td>\n",
       "      <td>603</td>\n",
       "      <td>603</td>\n",
       "      <td>603</td>\n",
       "      <td>...</td>\n",
       "      <td>2550</td>\n",
       "      <td>2600</td>\n",
       "      <td>2660</td>\n",
       "      <td>2710</td>\n",
       "      <td>2770</td>\n",
       "      <td>2820</td>\n",
       "      <td>2880</td>\n",
       "      <td>2940</td>\n",
       "      <td>3000</td>\n",
       "      <td>3060</td>\n",
       "    </tr>\n",
       "  </tbody>\n",
       "</table>\n",
       "<p>1 rows × 242 columns</p>\n",
       "</div>"
      ],
      "text/plain": [
       "       country  1800  1801  1802  1803  1804  1805  1806  1807  1808  ...  \\\n",
       "0  Afghanistan   603   603   603   603   603   603   603   603   603  ...   \n",
       "\n",
       "   2031  2032  2033  2034  2035  2036  2037  2038  2039  2040  \n",
       "0  2550  2600  2660  2710  2770  2820  2880  2940  3000  3060  \n",
       "\n",
       "[1 rows x 242 columns]"
      ]
     },
     "execution_count": 9,
     "metadata": {},
     "output_type": "execute_result"
    }
   ],
   "source": [
    "#checking sample\n",
    "df_income.head(1)"
   ]
  },
  {
   "cell_type": "code",
   "execution_count": 10,
   "metadata": {},
   "outputs": [
    {
     "data": {
      "text/plain": [
       "0"
      ]
     },
     "execution_count": 10,
     "metadata": {},
     "output_type": "execute_result"
    }
   ],
   "source": [
    "#checkin for duplication \n",
    "df_income.duplicated().sum()"
   ]
  },
  {
   "cell_type": "code",
   "execution_count": 11,
   "metadata": {},
   "outputs": [
    {
     "name": "stdout",
     "output_type": "stream",
     "text": [
      "<class 'pandas.core.frame.DataFrame'>\n",
      "RangeIndex: 193 entries, 0 to 192\n",
      "Columns: 242 entries, country to 2040\n",
      "dtypes: int64(241), object(1)\n",
      "memory usage: 365.0+ KB\n"
     ]
    }
   ],
   "source": [
    "#chicking general info\n",
    "df_income.info()"
   ]
  },
  {
   "cell_type": "code",
   "execution_count": 12,
   "metadata": {},
   "outputs": [
    {
     "data": {
      "text/plain": [
       "0"
      ]
     },
     "execution_count": 12,
     "metadata": {},
     "output_type": "execute_result"
    }
   ],
   "source": [
    "#chicking for missing values\n",
    "sum(df_income.isnull().sum())"
   ]
  },
  {
   "cell_type": "code",
   "execution_count": 13,
   "metadata": {},
   "outputs": [
    {
     "data": {
      "text/plain": [
       "True"
      ]
     },
     "execution_count": 13,
     "metadata": {},
     "output_type": "execute_result"
    }
   ],
   "source": [
    "#chicking for dupliction in country column \n",
    "df_income['country'].nunique() == df_income['country'].count()"
   ]
  },
  {
   "cell_type": "markdown",
   "metadata": {},
   "source": [
    "## total gdp data set :"
   ]
  },
  {
   "cell_type": "code",
   "execution_count": 14,
   "metadata": {},
   "outputs": [
    {
     "data": {
      "text/html": [
       "<div>\n",
       "<style scoped>\n",
       "    .dataframe tbody tr th:only-of-type {\n",
       "        vertical-align: middle;\n",
       "    }\n",
       "\n",
       "    .dataframe tbody tr th {\n",
       "        vertical-align: top;\n",
       "    }\n",
       "\n",
       "    .dataframe thead th {\n",
       "        text-align: right;\n",
       "    }\n",
       "</style>\n",
       "<table border=\"1\" class=\"dataframe\">\n",
       "  <thead>\n",
       "    <tr style=\"text-align: right;\">\n",
       "      <th></th>\n",
       "      <th>country</th>\n",
       "      <th>1960</th>\n",
       "      <th>1961</th>\n",
       "      <th>1962</th>\n",
       "      <th>1963</th>\n",
       "      <th>1964</th>\n",
       "      <th>1965</th>\n",
       "      <th>1966</th>\n",
       "      <th>1967</th>\n",
       "      <th>1968</th>\n",
       "      <th>...</th>\n",
       "      <th>2010</th>\n",
       "      <th>2011</th>\n",
       "      <th>2012</th>\n",
       "      <th>2013</th>\n",
       "      <th>2014</th>\n",
       "      <th>2015</th>\n",
       "      <th>2016</th>\n",
       "      <th>2017</th>\n",
       "      <th>2018</th>\n",
       "      <th>2019</th>\n",
       "    </tr>\n",
       "  </thead>\n",
       "  <tbody>\n",
       "    <tr>\n",
       "      <th>0</th>\n",
       "      <td>Afghanistan</td>\n",
       "      <td>NaN</td>\n",
       "      <td>NaN</td>\n",
       "      <td>NaN</td>\n",
       "      <td>NaN</td>\n",
       "      <td>NaN</td>\n",
       "      <td>NaN</td>\n",
       "      <td>NaN</td>\n",
       "      <td>NaN</td>\n",
       "      <td>NaN</td>\n",
       "      <td>...</td>\n",
       "      <td>1.590000e+10</td>\n",
       "      <td>1.590000e+10</td>\n",
       "      <td>1.800000e+10</td>\n",
       "      <td>1.900000e+10</td>\n",
       "      <td>1.950000e+10</td>\n",
       "      <td>1.980000e+10</td>\n",
       "      <td>2.020000e+10</td>\n",
       "      <td>2.070000e+10</td>\n",
       "      <td>2.110000e+10</td>\n",
       "      <td>2.170000e+10</td>\n",
       "    </tr>\n",
       "  </tbody>\n",
       "</table>\n",
       "<p>1 rows × 61 columns</p>\n",
       "</div>"
      ],
      "text/plain": [
       "       country  1960  1961  1962  1963  1964  1965  1966  1967  1968  ...  \\\n",
       "0  Afghanistan   NaN   NaN   NaN   NaN   NaN   NaN   NaN   NaN   NaN  ...   \n",
       "\n",
       "           2010          2011          2012          2013          2014  \\\n",
       "0  1.590000e+10  1.590000e+10  1.800000e+10  1.900000e+10  1.950000e+10   \n",
       "\n",
       "           2015          2016          2017          2018          2019  \n",
       "0  1.980000e+10  2.020000e+10  2.070000e+10  2.110000e+10  2.170000e+10  \n",
       "\n",
       "[1 rows x 61 columns]"
      ]
     },
     "execution_count": 14,
     "metadata": {},
     "output_type": "execute_result"
    }
   ],
   "source": [
    "#checking sample\n",
    "df_total_gdp.head(1)"
   ]
  },
  {
   "cell_type": "code",
   "execution_count": 15,
   "metadata": {},
   "outputs": [
    {
     "data": {
      "text/plain": [
       "0"
      ]
     },
     "execution_count": 15,
     "metadata": {},
     "output_type": "execute_result"
    }
   ],
   "source": [
    "#checkin for duplication \n",
    "df_total_gdp.duplicated().sum()"
   ]
  },
  {
   "cell_type": "code",
   "execution_count": 16,
   "metadata": {},
   "outputs": [
    {
     "name": "stdout",
     "output_type": "stream",
     "text": [
      "<class 'pandas.core.frame.DataFrame'>\n",
      "RangeIndex: 191 entries, 0 to 190\n",
      "Data columns (total 61 columns):\n",
      "country    191 non-null object\n",
      "1960       87 non-null float64\n",
      "1961       89 non-null float64\n",
      "1962       89 non-null float64\n",
      "1963       89 non-null float64\n",
      "1964       89 non-null float64\n",
      "1965       93 non-null float64\n",
      "1966       96 non-null float64\n",
      "1967       97 non-null float64\n",
      "1968       99 non-null float64\n",
      "1969       99 non-null float64\n",
      "1970       112 non-null float64\n",
      "1971       112 non-null float64\n",
      "1972       112 non-null float64\n",
      "1973       112 non-null float64\n",
      "1974       114 non-null float64\n",
      "1975       117 non-null float64\n",
      "1976       118 non-null float64\n",
      "1977       123 non-null float64\n",
      "1978       123 non-null float64\n",
      "1979       124 non-null float64\n",
      "1980       134 non-null float64\n",
      "1981       138 non-null float64\n",
      "1982       140 non-null float64\n",
      "1983       140 non-null float64\n",
      "1984       142 non-null float64\n",
      "1985       143 non-null float64\n",
      "1986       146 non-null float64\n",
      "1987       149 non-null float64\n",
      "1988       151 non-null float64\n",
      "1989       152 non-null float64\n",
      "1990       164 non-null float64\n",
      "1991       165 non-null float64\n",
      "1992       168 non-null float64\n",
      "1993       170 non-null float64\n",
      "1994       172 non-null float64\n",
      "1995       178 non-null float64\n",
      "1996       178 non-null float64\n",
      "1997       180 non-null float64\n",
      "1998       180 non-null float64\n",
      "1999       181 non-null float64\n",
      "2000       185 non-null float64\n",
      "2001       186 non-null float64\n",
      "2002       187 non-null float64\n",
      "2003       187 non-null float64\n",
      "2004       188 non-null float64\n",
      "2005       188 non-null float64\n",
      "2006       188 non-null float64\n",
      "2007       188 non-null float64\n",
      "2008       189 non-null float64\n",
      "2009       189 non-null float64\n",
      "2010       191 non-null float64\n",
      "2011       189 non-null float64\n",
      "2012       188 non-null float64\n",
      "2013       188 non-null float64\n",
      "2014       188 non-null float64\n",
      "2015       187 non-null float64\n",
      "2016       186 non-null float64\n",
      "2017       186 non-null float64\n",
      "2018       185 non-null float64\n",
      "2019       174 non-null float64\n",
      "dtypes: float64(60), object(1)\n",
      "memory usage: 91.1+ KB\n"
     ]
    }
   ],
   "source": [
    "#chicking general info\n",
    "df_total_gdp.info()"
   ]
  },
  {
   "cell_type": "code",
   "execution_count": 17,
   "metadata": {},
   "outputs": [
    {
     "data": {
      "text/plain": [
       "2458"
      ]
     },
     "execution_count": 17,
     "metadata": {},
     "output_type": "execute_result"
    }
   ],
   "source": [
    "#chicking for missing values\n",
    "sum(df_total_gdp.isnull().sum())"
   ]
  },
  {
   "cell_type": "code",
   "execution_count": 18,
   "metadata": {},
   "outputs": [
    {
     "data": {
      "text/plain": [
       "True"
      ]
     },
     "execution_count": 18,
     "metadata": {},
     "output_type": "execute_result"
    }
   ],
   "source": [
    "#chicking for dupliction in country column \n",
    "df_total_gdp['country'].nunique() == df_total_gdp['country'].count()"
   ]
  },
  {
   "cell_type": "markdown",
   "metadata": {},
   "source": [
    "## death_rate data set :"
   ]
  },
  {
   "cell_type": "code",
   "execution_count": 19,
   "metadata": {},
   "outputs": [
    {
     "data": {
      "text/html": [
       "<div>\n",
       "<style scoped>\n",
       "    .dataframe tbody tr th:only-of-type {\n",
       "        vertical-align: middle;\n",
       "    }\n",
       "\n",
       "    .dataframe tbody tr th {\n",
       "        vertical-align: top;\n",
       "    }\n",
       "\n",
       "    .dataframe thead th {\n",
       "        text-align: right;\n",
       "    }\n",
       "</style>\n",
       "<table border=\"1\" class=\"dataframe\">\n",
       "  <thead>\n",
       "    <tr style=\"text-align: right;\">\n",
       "      <th></th>\n",
       "      <th>country</th>\n",
       "      <th>1950</th>\n",
       "      <th>1951</th>\n",
       "      <th>1952</th>\n",
       "      <th>1953</th>\n",
       "      <th>1954</th>\n",
       "      <th>1955</th>\n",
       "      <th>1956</th>\n",
       "      <th>1957</th>\n",
       "      <th>1958</th>\n",
       "      <th>...</th>\n",
       "      <th>2090</th>\n",
       "      <th>2091</th>\n",
       "      <th>2092</th>\n",
       "      <th>2093</th>\n",
       "      <th>2094</th>\n",
       "      <th>2095</th>\n",
       "      <th>2096</th>\n",
       "      <th>2097</th>\n",
       "      <th>2098</th>\n",
       "      <th>2099</th>\n",
       "    </tr>\n",
       "  </thead>\n",
       "  <tbody>\n",
       "    <tr>\n",
       "      <th>0</th>\n",
       "      <td>Afghanistan</td>\n",
       "      <td>38.2</td>\n",
       "      <td>37.8</td>\n",
       "      <td>37.2</td>\n",
       "      <td>36.5</td>\n",
       "      <td>35.9</td>\n",
       "      <td>35.3</td>\n",
       "      <td>34.6</td>\n",
       "      <td>34.0</td>\n",
       "      <td>33.4</td>\n",
       "      <td>...</td>\n",
       "      <td>11.3</td>\n",
       "      <td>11.4</td>\n",
       "      <td>11.5</td>\n",
       "      <td>11.7</td>\n",
       "      <td>11.8</td>\n",
       "      <td>11.9</td>\n",
       "      <td>12.0</td>\n",
       "      <td>12.1</td>\n",
       "      <td>12.2</td>\n",
       "      <td>12.3</td>\n",
       "    </tr>\n",
       "  </tbody>\n",
       "</table>\n",
       "<p>1 rows × 151 columns</p>\n",
       "</div>"
      ],
      "text/plain": [
       "       country  1950  1951  1952  1953  1954  1955  1956  1957  1958  ...  \\\n",
       "0  Afghanistan  38.2  37.8  37.2  36.5  35.9  35.3  34.6  34.0  33.4  ...   \n",
       "\n",
       "   2090  2091  2092  2093  2094  2095  2096  2097  2098  2099  \n",
       "0  11.3  11.4  11.5  11.7  11.8  11.9  12.0  12.1  12.2  12.3  \n",
       "\n",
       "[1 rows x 151 columns]"
      ]
     },
     "execution_count": 19,
     "metadata": {},
     "output_type": "execute_result"
    }
   ],
   "source": [
    "#checking sample\n",
    "df_death_rate.head(1)"
   ]
  },
  {
   "cell_type": "code",
   "execution_count": 20,
   "metadata": {},
   "outputs": [
    {
     "data": {
      "text/plain": [
       "0"
      ]
     },
     "execution_count": 20,
     "metadata": {},
     "output_type": "execute_result"
    }
   ],
   "source": [
    "#checkin for duplication \n",
    "df_death_rate.duplicated().sum()"
   ]
  },
  {
   "cell_type": "code",
   "execution_count": 21,
   "metadata": {},
   "outputs": [
    {
     "name": "stdout",
     "output_type": "stream",
     "text": [
      "<class 'pandas.core.frame.DataFrame'>\n",
      "RangeIndex: 184 entries, 0 to 183\n",
      "Columns: 151 entries, country to 2099\n",
      "dtypes: float64(150), object(1)\n",
      "memory usage: 217.1+ KB\n"
     ]
    }
   ],
   "source": [
    "#chicking general info\n",
    "df_death_rate.info()"
   ]
  },
  {
   "cell_type": "code",
   "execution_count": 22,
   "metadata": {},
   "outputs": [
    {
     "data": {
      "text/plain": [
       "0"
      ]
     },
     "execution_count": 22,
     "metadata": {},
     "output_type": "execute_result"
    }
   ],
   "source": [
    "#chicking for missing values\n",
    "sum(df_death_rate.isnull().sum())"
   ]
  },
  {
   "cell_type": "code",
   "execution_count": 23,
   "metadata": {},
   "outputs": [
    {
     "data": {
      "text/plain": [
       "True"
      ]
     },
     "execution_count": 23,
     "metadata": {},
     "output_type": "execute_result"
    }
   ],
   "source": [
    "#chicking for dupliction in country column \n",
    "df_death_rate['country'].nunique() == df_death_rate['country'].count()"
   ]
  },
  {
   "cell_type": "markdown",
   "metadata": {},
   "source": [
    "## birth_rate data set :"
   ]
  },
  {
   "cell_type": "code",
   "execution_count": 24,
   "metadata": {},
   "outputs": [
    {
     "data": {
      "text/html": [
       "<div>\n",
       "<style scoped>\n",
       "    .dataframe tbody tr th:only-of-type {\n",
       "        vertical-align: middle;\n",
       "    }\n",
       "\n",
       "    .dataframe tbody tr th {\n",
       "        vertical-align: top;\n",
       "    }\n",
       "\n",
       "    .dataframe thead th {\n",
       "        text-align: right;\n",
       "    }\n",
       "</style>\n",
       "<table border=\"1\" class=\"dataframe\">\n",
       "  <thead>\n",
       "    <tr style=\"text-align: right;\">\n",
       "      <th></th>\n",
       "      <th>country</th>\n",
       "      <th>1960</th>\n",
       "      <th>1961</th>\n",
       "      <th>1962</th>\n",
       "      <th>1963</th>\n",
       "      <th>1964</th>\n",
       "      <th>1965</th>\n",
       "      <th>1966</th>\n",
       "      <th>1967</th>\n",
       "      <th>1968</th>\n",
       "      <th>...</th>\n",
       "      <th>2009</th>\n",
       "      <th>2010</th>\n",
       "      <th>2011</th>\n",
       "      <th>2012</th>\n",
       "      <th>2013</th>\n",
       "      <th>2014</th>\n",
       "      <th>2015</th>\n",
       "      <th>2016</th>\n",
       "      <th>2017</th>\n",
       "      <th>2018</th>\n",
       "    </tr>\n",
       "  </thead>\n",
       "  <tbody>\n",
       "    <tr>\n",
       "      <th>0</th>\n",
       "      <td>Afghanistan</td>\n",
       "      <td>51.3</td>\n",
       "      <td>51.4</td>\n",
       "      <td>51.5</td>\n",
       "      <td>51.5</td>\n",
       "      <td>51.6</td>\n",
       "      <td>51.6</td>\n",
       "      <td>51.7</td>\n",
       "      <td>51.6</td>\n",
       "      <td>51.6</td>\n",
       "      <td>...</td>\n",
       "      <td>40.9</td>\n",
       "      <td>39.8</td>\n",
       "      <td>38.8</td>\n",
       "      <td>37.7</td>\n",
       "      <td>36.7</td>\n",
       "      <td>35.7</td>\n",
       "      <td>34.8</td>\n",
       "      <td>34.0</td>\n",
       "      <td>33.2</td>\n",
       "      <td>32.5</td>\n",
       "    </tr>\n",
       "  </tbody>\n",
       "</table>\n",
       "<p>1 rows × 60 columns</p>\n",
       "</div>"
      ],
      "text/plain": [
       "       country  1960  1961  1962  1963  1964  1965  1966  1967  1968  ...  \\\n",
       "0  Afghanistan  51.3  51.4  51.5  51.5  51.6  51.6  51.7  51.6  51.6  ...   \n",
       "\n",
       "   2009  2010  2011  2012  2013  2014  2015  2016  2017  2018  \n",
       "0  40.9  39.8  38.8  37.7  36.7  35.7  34.8  34.0  33.2  32.5  \n",
       "\n",
       "[1 rows x 60 columns]"
      ]
     },
     "execution_count": 24,
     "metadata": {},
     "output_type": "execute_result"
    }
   ],
   "source": [
    "#checking sample\n",
    "df_birth_rate.head(1)"
   ]
  },
  {
   "cell_type": "code",
   "execution_count": 25,
   "metadata": {},
   "outputs": [
    {
     "data": {
      "text/plain": [
       "0"
      ]
     },
     "execution_count": 25,
     "metadata": {},
     "output_type": "execute_result"
    }
   ],
   "source": [
    "#checkin for duplication \n",
    "df_birth_rate.duplicated().sum()"
   ]
  },
  {
   "cell_type": "code",
   "execution_count": 26,
   "metadata": {},
   "outputs": [
    {
     "name": "stdout",
     "output_type": "stream",
     "text": [
      "<class 'pandas.core.frame.DataFrame'>\n",
      "RangeIndex: 192 entries, 0 to 191\n",
      "Data columns (total 60 columns):\n",
      "country    192 non-null object\n",
      "1960       182 non-null float64\n",
      "1961       182 non-null float64\n",
      "1962       182 non-null float64\n",
      "1963       182 non-null float64\n",
      "1964       182 non-null float64\n",
      "1965       182 non-null float64\n",
      "1966       182 non-null float64\n",
      "1967       182 non-null float64\n",
      "1968       182 non-null float64\n",
      "1969       182 non-null float64\n",
      "1970       184 non-null float64\n",
      "1971       183 non-null float64\n",
      "1972       184 non-null float64\n",
      "1973       184 non-null float64\n",
      "1974       184 non-null float64\n",
      "1975       184 non-null float64\n",
      "1976       185 non-null float64\n",
      "1977       185 non-null float64\n",
      "1978       185 non-null float64\n",
      "1979       185 non-null float64\n",
      "1980       185 non-null float64\n",
      "1981       185 non-null float64\n",
      "1982       185 non-null float64\n",
      "1983       185 non-null float64\n",
      "1984       185 non-null float64\n",
      "1985       184 non-null float64\n",
      "1986       185 non-null float64\n",
      "1987       187 non-null float64\n",
      "1988       185 non-null float64\n",
      "1989       185 non-null float64\n",
      "1990       187 non-null float64\n",
      "1991       187 non-null float64\n",
      "1992       188 non-null float64\n",
      "1993       186 non-null float64\n",
      "1994       187 non-null float64\n",
      "1995       188 non-null float64\n",
      "1996       190 non-null float64\n",
      "1997       189 non-null float64\n",
      "1998       188 non-null float64\n",
      "1999       188 non-null float64\n",
      "2000       187 non-null float64\n",
      "2001       188 non-null float64\n",
      "2002       189 non-null float64\n",
      "2003       187 non-null float64\n",
      "2004       189 non-null float64\n",
      "2005       189 non-null float64\n",
      "2006       190 non-null float64\n",
      "2007       189 non-null float64\n",
      "2008       188 non-null float64\n",
      "2009       188 non-null float64\n",
      "2010       189 non-null float64\n",
      "2011       188 non-null float64\n",
      "2012       188 non-null float64\n",
      "2013       187 non-null float64\n",
      "2014       189 non-null float64\n",
      "2015       188 non-null float64\n",
      "2016       189 non-null float64\n",
      "2017       187 non-null float64\n",
      "2018       189 non-null float64\n",
      "dtypes: float64(59), object(1)\n",
      "memory usage: 90.1+ KB\n"
     ]
    }
   ],
   "source": [
    "#chicking general info\n",
    "df_birth_rate.info()"
   ]
  },
  {
   "cell_type": "code",
   "execution_count": 27,
   "metadata": {},
   "outputs": [
    {
     "data": {
      "text/plain": [
       "358"
      ]
     },
     "execution_count": 27,
     "metadata": {},
     "output_type": "execute_result"
    }
   ],
   "source": [
    "#chicking for missing values\n",
    "sum(df_birth_rate.isnull().sum())"
   ]
  },
  {
   "cell_type": "code",
   "execution_count": 28,
   "metadata": {},
   "outputs": [
    {
     "data": {
      "text/plain": [
       "True"
      ]
     },
     "execution_count": 28,
     "metadata": {},
     "output_type": "execute_result"
    }
   ],
   "source": [
    "#chicking for dupliction in country column \n",
    "df_birth_rate['country'].nunique() == df_birth_rate['country'].count()"
   ]
  },
  {
   "cell_type": "markdown",
   "metadata": {},
   "source": [
    "# issues report:\n",
    "#### diffrent shape in all the sets\n",
    "#### total_gdp set has 2458 missing value\n",
    "#### death_rate has 184 country the smallest set in countries from all the data sets\n",
    "#### birth_rate the years begin from 1960 to 2018\n",
    "#### birth_rate has 358 missing vlaue"
   ]
  },
  {
   "cell_type": "markdown",
   "metadata": {},
   "source": [
    "### Data Cleaning (Replace this with more specific notes!)"
   ]
  },
  {
   "cell_type": "markdown",
   "metadata": {},
   "source": [
    "### subset all the indicators data set from 1960 to 2018"
   ]
  },
  {
   "cell_type": "code",
   "execution_count": 29,
   "metadata": {},
   "outputs": [
    {
     "data": {
      "text/plain": [
       "(195, 59)"
      ]
     },
     "execution_count": 29,
     "metadata": {},
     "output_type": "execute_result"
    }
   ],
   "source": [
    "df_population.reset_index(drop=True)\n",
    "df_population.set_index('country', inplace=True) #seting country column as index\n",
    "new_population_year=df_population.loc[:,'1960':'2018'] #slicing subset from 1960 to 2018\n",
    "new_population_year.shape "
   ]
  },
  {
   "cell_type": "code",
   "execution_count": 30,
   "metadata": {},
   "outputs": [
    {
     "data": {
      "text/plain": [
       "(193, 59)"
      ]
     },
     "execution_count": 30,
     "metadata": {},
     "output_type": "execute_result"
    }
   ],
   "source": [
    "df_income.reset_index(drop=True)\n",
    "df_income.set_index('country', inplace=True) #seting country column as index\n",
    "new_income_year=df_income.loc[:,'1960':'2018'] #slicing subset from 1960 to 2018\n",
    "new_income_year.shape"
   ]
  },
  {
   "cell_type": "code",
   "execution_count": 31,
   "metadata": {},
   "outputs": [
    {
     "data": {
      "text/plain": [
       "(191, 59)"
      ]
     },
     "execution_count": 31,
     "metadata": {},
     "output_type": "execute_result"
    }
   ],
   "source": [
    "df_total_gdp.reset_index(drop=True)\n",
    "df_total_gdp.set_index('country', inplace=True) #seting country column as index\n",
    "new_gdp_year = df_total_gdp.loc[:,'1960':'2018'] #slicing subset from 1960 to 2018\n",
    "new_gdp_year.shape"
   ]
  },
  {
   "cell_type": "code",
   "execution_count": 32,
   "metadata": {},
   "outputs": [
    {
     "data": {
      "text/plain": [
       "(184, 59)"
      ]
     },
     "execution_count": 32,
     "metadata": {},
     "output_type": "execute_result"
    }
   ],
   "source": [
    "df_death_rate.reset_index(drop=True)\n",
    "df_death_rate.set_index('country', inplace=True) #seting country column as index\n",
    "new_death_rate = df_death_rate.loc[:,'1960':'2018'] #slicing subset from 1960 to 2018\n",
    "new_death_rate.shape"
   ]
  },
  {
   "cell_type": "code",
   "execution_count": 33,
   "metadata": {},
   "outputs": [
    {
     "data": {
      "text/plain": [
       "(192, 59)"
      ]
     },
     "execution_count": 33,
     "metadata": {},
     "output_type": "execute_result"
    }
   ],
   "source": [
    "df_birth_rate.reset_index()\n",
    "df_birth_rate.set_index('country', inplace=True)\n",
    "df_birth_rate.shape"
   ]
  },
  {
   "cell_type": "markdown",
   "metadata": {},
   "source": [
    "### fixing countries issue"
   ]
  },
  {
   "cell_type": "markdown",
   "metadata": {},
   "source": [
    "#### finding the real number for the countries "
   ]
  },
  {
   "cell_type": "code",
   "execution_count": 34,
   "metadata": {},
   "outputs": [
    {
     "data": {
      "text/plain": [
       "181"
      ]
     },
     "execution_count": 34,
     "metadata": {},
     "output_type": "execute_result"
    }
   ],
   "source": [
    "len(set(new_death_rate.index)&set(df_birth_rate.index)&set(new_gdp_year.index)&set(new_income_year.index)&set(new_population_year.index))"
   ]
  },
  {
   "cell_type": "markdown",
   "metadata": {},
   "source": [
    "there is 181 country not 184 so finding the comman countries between all the sets"
   ]
  },
  {
   "cell_type": "code",
   "execution_count": 35,
   "metadata": {},
   "outputs": [],
   "source": [
    "countries=set(new_death_rate.index)&set(df_birth_rate.index)&set(new_gdp_year.index)&set(new_income_year.index)&set(new_population_year.index)"
   ]
  },
  {
   "cell_type": "code",
   "execution_count": 36,
   "metadata": {},
   "outputs": [
    {
     "data": {
      "text/plain": [
       "(181, 59)"
      ]
     },
     "execution_count": 36,
     "metadata": {},
     "output_type": "execute_result"
    }
   ],
   "source": [
    "new_population=new_population_year.loc[countries,:] #slicing subset using the comman countries\n",
    "new_population.shape"
   ]
  },
  {
   "cell_type": "code",
   "execution_count": 37,
   "metadata": {},
   "outputs": [
    {
     "data": {
      "text/plain": [
       "(181, 59)"
      ]
     },
     "execution_count": 37,
     "metadata": {},
     "output_type": "execute_result"
    }
   ],
   "source": [
    "new_income=new_income_year.loc[countries,:] #slicing subset using the comman countries\n",
    "new_income.shape"
   ]
  },
  {
   "cell_type": "code",
   "execution_count": 38,
   "metadata": {},
   "outputs": [
    {
     "data": {
      "text/plain": [
       "(181, 59)"
      ]
     },
     "execution_count": 38,
     "metadata": {},
     "output_type": "execute_result"
    }
   ],
   "source": [
    "new_gdp=new_gdp_year.loc[countries,:] #slicing subset using the comman countries\n",
    "new_gdp.shape"
   ]
  },
  {
   "cell_type": "code",
   "execution_count": 39,
   "metadata": {},
   "outputs": [
    {
     "data": {
      "text/plain": [
       "(181, 59)"
      ]
     },
     "execution_count": 39,
     "metadata": {},
     "output_type": "execute_result"
    }
   ],
   "source": [
    "new_death_rate=new_death_rate.loc[countries,:] #slicing subset using the comman countries\n",
    "new_death_rate.shape"
   ]
  },
  {
   "cell_type": "code",
   "execution_count": 40,
   "metadata": {},
   "outputs": [
    {
     "data": {
      "text/plain": [
       "(181, 59)"
      ]
     },
     "execution_count": 40,
     "metadata": {},
     "output_type": "execute_result"
    }
   ],
   "source": [
    "new_birth_rate=df_birth_rate.loc[countries,:] #slicing subset using the comman countries\n",
    "new_birth_rate.shape"
   ]
  },
  {
   "cell_type": "markdown",
   "metadata": {},
   "source": [
    "##### chicking for indintical of countries "
   ]
  },
  {
   "cell_type": "code",
   "execution_count": 41,
   "metadata": {},
   "outputs": [
    {
     "data": {
      "text/plain": [
       "True"
      ]
     },
     "execution_count": 41,
     "metadata": {},
     "output_type": "execute_result"
    }
   ],
   "source": [
    "new_population.index.all()==new_income.index.all()==new_gdp.index.all()==new_death_rate.index.all()==new_birth_rate.index.all()"
   ]
  },
  {
   "cell_type": "markdown",
   "metadata": {},
   "source": [
    "##### chicking for indintical of years"
   ]
  },
  {
   "cell_type": "code",
   "execution_count": 42,
   "metadata": {},
   "outputs": [
    {
     "data": {
      "text/plain": [
       "True"
      ]
     },
     "execution_count": 42,
     "metadata": {},
     "output_type": "execute_result"
    }
   ],
   "source": [
    "new_population.columns.all()==new_income.columns.all()==new_gdp.columns.all()==new_death_rate.columns.all()==new_birth_rate.columns.all()"
   ]
  },
  {
   "cell_type": "markdown",
   "metadata": {},
   "source": [
    "### fixing missing values "
   ]
  },
  {
   "cell_type": "markdown",
   "metadata": {},
   "source": [
    "#### birth rate set missing value "
   ]
  },
  {
   "cell_type": "code",
   "execution_count": 43,
   "metadata": {},
   "outputs": [
    {
     "data": {
      "text/plain": [
       "75"
      ]
     },
     "execution_count": 43,
     "metadata": {},
     "output_type": "execute_result"
    }
   ],
   "source": [
    "sum(new_birth_rate.isnull().sum())"
   ]
  },
  {
   "cell_type": "markdown",
   "metadata": {},
   "source": [
    "it was 358 missing in the orginal data set and now it is 75 after reshapeing"
   ]
  },
  {
   "cell_type": "code",
   "execution_count": 44,
   "metadata": {},
   "outputs": [
    {
     "data": {
      "text/plain": [
       "0"
      ]
     },
     "execution_count": 44,
     "metadata": {},
     "output_type": "execute_result"
    }
   ],
   "source": [
    "new_birth_rate.fillna(new_birth_rate.mean(), inplace=True) # filling the missing values with mean\n",
    "sum(new_birth_rate.isnull().sum())"
   ]
  },
  {
   "cell_type": "code",
   "execution_count": 45,
   "metadata": {},
   "outputs": [
    {
     "data": {
      "text/plain": [
       "2157"
      ]
     },
     "execution_count": 45,
     "metadata": {},
     "output_type": "execute_result"
    }
   ],
   "source": [
    "sum(new_gdp.isnull().sum())"
   ]
  },
  {
   "cell_type": "markdown",
   "metadata": {},
   "source": [
    "it was 2458 in the orginal but now it is 2157 after reshapeing"
   ]
  },
  {
   "cell_type": "code",
   "execution_count": 46,
   "metadata": {},
   "outputs": [
    {
     "data": {
      "text/plain": [
       "0"
      ]
     },
     "execution_count": 46,
     "metadata": {},
     "output_type": "execute_result"
    }
   ],
   "source": [
    "new_gdp.fillna(new_gdp.mean(), inplace=True) # filling the missing values with mean\n",
    "sum(new_gdp.isnull().sum())"
   ]
  },
  {
   "cell_type": "markdown",
   "metadata": {},
   "source": [
    "## merging all data frame "
   ]
  },
  {
   "cell_type": "markdown",
   "metadata": {},
   "source": [
    "#### making multi index for the mergied data frame "
   ]
  },
  {
   "cell_type": "code",
   "execution_count": 47,
   "metadata": {},
   "outputs": [],
   "source": [
    "countries=[]\n",
    "years=[]\n",
    "population_values=[]\n",
    "income_values=[]\n",
    "gdp_values=[]\n",
    "death_rate_values=[]\n",
    "birth_rate_values=[]\n",
    "new_population.sort_index(inplace=True)"
   ]
  },
  {
   "cell_type": "markdown",
   "metadata": {},
   "source": [
    "##### get the values of each indicator "
   ]
  },
  {
   "cell_type": "code",
   "execution_count": 48,
   "metadata": {},
   "outputs": [],
   "source": [
    "for country in new_population.index:\n",
    "    for year in new_population.columns:\n",
    "        countries.append(country)\n",
    "        years.append(year)\n",
    "        population_values.append(new_population.loc[country,year])    #slice population indicator\n",
    "        income_values.append(new_income.loc[country,year])            #slice income indicator\n",
    "        gdp_values.append(new_gdp.loc[country,year])                  #slice gdp indicator\n",
    "        death_rate_values.append(new_death_rate.loc[country,year])    #slice death_rate indicator\n",
    "        birth_rate_values.append(new_birth_rate.loc[country,year])    #slice birth_rate indicator"
   ]
  },
  {
   "cell_type": "markdown",
   "metadata": {},
   "source": [
    "makeing product from countries and years to use it as multi index"
   ]
  },
  {
   "cell_type": "code",
   "execution_count": 49,
   "metadata": {},
   "outputs": [],
   "source": [
    "iterables = [new_population.index,new_population.columns]"
   ]
  },
  {
   "cell_type": "markdown",
   "metadata": {},
   "source": [
    "###### making the merged data frame with country and year as mutli index (country,year)and the indicators as columns"
   ]
  },
  {
   "cell_type": "code",
   "execution_count": 50,
   "metadata": {},
   "outputs": [],
   "source": [
    "dfx = pd.MultiIndex.from_product(iterables, names=['country', 'year']).to_frame()\n",
    "dfx['population']=population_values\n",
    "dfx['income']=income_values\n",
    "dfx['gdp']=gdp_values\n",
    "dfx['death_rate']=death_rate_values\n",
    "dfx['birth_rate']=birth_rate_values"
   ]
  },
  {
   "cell_type": "code",
   "execution_count": 51,
   "metadata": {},
   "outputs": [],
   "source": [
    "dfx.drop(['country','year'], inplace=True,axis=1) #drop the country and year columns"
   ]
  },
  {
   "cell_type": "code",
   "execution_count": 52,
   "metadata": {},
   "outputs": [
    {
     "data": {
      "text/html": [
       "<div>\n",
       "<style scoped>\n",
       "    .dataframe tbody tr th:only-of-type {\n",
       "        vertical-align: middle;\n",
       "    }\n",
       "\n",
       "    .dataframe tbody tr th {\n",
       "        vertical-align: top;\n",
       "    }\n",
       "\n",
       "    .dataframe thead th {\n",
       "        text-align: right;\n",
       "    }\n",
       "</style>\n",
       "<table border=\"1\" class=\"dataframe\">\n",
       "  <thead>\n",
       "    <tr style=\"text-align: right;\">\n",
       "      <th></th>\n",
       "      <th>population</th>\n",
       "      <th>income</th>\n",
       "      <th>gdp</th>\n",
       "      <th>death_rate</th>\n",
       "      <th>birth_rate</th>\n",
       "    </tr>\n",
       "  </thead>\n",
       "  <tbody>\n",
       "    <tr>\n",
       "      <th>count</th>\n",
       "      <td>1.067900e+04</td>\n",
       "      <td>10679.000000</td>\n",
       "      <td>1.067900e+04</td>\n",
       "      <td>10679.000000</td>\n",
       "      <td>10679.000000</td>\n",
       "    </tr>\n",
       "    <tr>\n",
       "      <th>mean</th>\n",
       "      <td>2.860427e+07</td>\n",
       "      <td>12401.925180</td>\n",
       "      <td>2.449388e+11</td>\n",
       "      <td>10.874011</td>\n",
       "      <td>29.433460</td>\n",
       "    </tr>\n",
       "    <tr>\n",
       "      <th>std</th>\n",
       "      <td>1.114477e+08</td>\n",
       "      <td>17487.720763</td>\n",
       "      <td>9.359017e+11</td>\n",
       "      <td>5.493662</td>\n",
       "      <td>13.074623</td>\n",
       "    </tr>\n",
       "    <tr>\n",
       "      <th>min</th>\n",
       "      <td>4.120000e+04</td>\n",
       "      <td>312.000000</td>\n",
       "      <td>9.940000e+07</td>\n",
       "      <td>1.130000</td>\n",
       "      <td>6.400000</td>\n",
       "    </tr>\n",
       "    <tr>\n",
       "      <th>25%</th>\n",
       "      <td>1.610000e+06</td>\n",
       "      <td>2400.000000</td>\n",
       "      <td>6.610000e+09</td>\n",
       "      <td>7.080000</td>\n",
       "      <td>17.400000</td>\n",
       "    </tr>\n",
       "    <tr>\n",
       "      <th>50%</th>\n",
       "      <td>5.410000e+06</td>\n",
       "      <td>6130.000000</td>\n",
       "      <td>4.260000e+10</td>\n",
       "      <td>9.540000</td>\n",
       "      <td>29.500000</td>\n",
       "    </tr>\n",
       "    <tr>\n",
       "      <th>75%</th>\n",
       "      <td>1.685000e+07</td>\n",
       "      <td>15300.000000</td>\n",
       "      <td>1.865447e+11</td>\n",
       "      <td>13.000000</td>\n",
       "      <td>41.400000</td>\n",
       "    </tr>\n",
       "    <tr>\n",
       "      <th>max</th>\n",
       "      <td>1.430000e+09</td>\n",
       "      <td>179000.000000</td>\n",
       "      <td>1.790000e+13</td>\n",
       "      <td>54.400000</td>\n",
       "      <td>58.200000</td>\n",
       "    </tr>\n",
       "  </tbody>\n",
       "</table>\n",
       "</div>"
      ],
      "text/plain": [
       "         population         income           gdp    death_rate    birth_rate\n",
       "count  1.067900e+04   10679.000000  1.067900e+04  10679.000000  10679.000000\n",
       "mean   2.860427e+07   12401.925180  2.449388e+11     10.874011     29.433460\n",
       "std    1.114477e+08   17487.720763  9.359017e+11      5.493662     13.074623\n",
       "min    4.120000e+04     312.000000  9.940000e+07      1.130000      6.400000\n",
       "25%    1.610000e+06    2400.000000  6.610000e+09      7.080000     17.400000\n",
       "50%    5.410000e+06    6130.000000  4.260000e+10      9.540000     29.500000\n",
       "75%    1.685000e+07   15300.000000  1.865447e+11     13.000000     41.400000\n",
       "max    1.430000e+09  179000.000000  1.790000e+13     54.400000     58.200000"
      ]
     },
     "execution_count": 52,
     "metadata": {},
     "output_type": "execute_result"
    }
   ],
   "source": [
    "dfx.describe()"
   ]
  },
  {
   "cell_type": "code",
   "execution_count": 53,
   "metadata": {},
   "outputs": [
    {
     "name": "stdout",
     "output_type": "stream",
     "text": [
      "<class 'pandas.core.frame.DataFrame'>\n",
      "MultiIndex: 10679 entries, (Afghanistan, 1960) to (Zimbabwe, 2018)\n",
      "Data columns (total 5 columns):\n",
      "population    10679 non-null int64\n",
      "income        10679 non-null int64\n",
      "gdp           10679 non-null float64\n",
      "death_rate    10679 non-null float64\n",
      "birth_rate    10679 non-null float64\n",
      "dtypes: float64(3), int64(2)\n",
      "memory usage: 457.9+ KB\n"
     ]
    }
   ],
   "source": [
    "dfx.info()"
   ]
  },
  {
   "cell_type": "code",
   "execution_count": 54,
   "metadata": {},
   "outputs": [
    {
     "data": {
      "text/html": [
       "<div>\n",
       "<style scoped>\n",
       "    .dataframe tbody tr th:only-of-type {\n",
       "        vertical-align: middle;\n",
       "    }\n",
       "\n",
       "    .dataframe tbody tr th {\n",
       "        vertical-align: top;\n",
       "    }\n",
       "\n",
       "    .dataframe thead th {\n",
       "        text-align: right;\n",
       "    }\n",
       "</style>\n",
       "<table border=\"1\" class=\"dataframe\">\n",
       "  <thead>\n",
       "    <tr style=\"text-align: right;\">\n",
       "      <th></th>\n",
       "      <th></th>\n",
       "      <th>population</th>\n",
       "      <th>income</th>\n",
       "      <th>gdp</th>\n",
       "      <th>death_rate</th>\n",
       "      <th>birth_rate</th>\n",
       "    </tr>\n",
       "    <tr>\n",
       "      <th>country</th>\n",
       "      <th>year</th>\n",
       "      <th></th>\n",
       "      <th></th>\n",
       "      <th></th>\n",
       "      <th></th>\n",
       "      <th></th>\n",
       "    </tr>\n",
       "  </thead>\n",
       "  <tbody>\n",
       "    <tr>\n",
       "      <th rowspan=\"5\" valign=\"top\">Afghanistan</th>\n",
       "      <th>1960</th>\n",
       "      <td>9000000</td>\n",
       "      <td>2740</td>\n",
       "      <td>1.010542e+11</td>\n",
       "      <td>32.2</td>\n",
       "      <td>51.3</td>\n",
       "    </tr>\n",
       "    <tr>\n",
       "      <th>1961</th>\n",
       "      <td>9170000</td>\n",
       "      <td>2700</td>\n",
       "      <td>1.032279e+11</td>\n",
       "      <td>31.6</td>\n",
       "      <td>51.4</td>\n",
       "    </tr>\n",
       "    <tr>\n",
       "      <th>1962</th>\n",
       "      <td>9350000</td>\n",
       "      <td>2680</td>\n",
       "      <td>1.088010e+11</td>\n",
       "      <td>31.1</td>\n",
       "      <td>51.5</td>\n",
       "    </tr>\n",
       "    <tr>\n",
       "      <th>1963</th>\n",
       "      <td>9540000</td>\n",
       "      <td>2670</td>\n",
       "      <td>1.146303e+11</td>\n",
       "      <td>30.6</td>\n",
       "      <td>51.5</td>\n",
       "    </tr>\n",
       "    <tr>\n",
       "      <th>1964</th>\n",
       "      <td>9740000</td>\n",
       "      <td>2650</td>\n",
       "      <td>1.222843e+11</td>\n",
       "      <td>30.0</td>\n",
       "      <td>51.6</td>\n",
       "    </tr>\n",
       "  </tbody>\n",
       "</table>\n",
       "</div>"
      ],
      "text/plain": [
       "                  population  income           gdp  death_rate  birth_rate\n",
       "country     year                                                          \n",
       "Afghanistan 1960     9000000    2740  1.010542e+11        32.2        51.3\n",
       "            1961     9170000    2700  1.032279e+11        31.6        51.4\n",
       "            1962     9350000    2680  1.088010e+11        31.1        51.5\n",
       "            1963     9540000    2670  1.146303e+11        30.6        51.5\n",
       "            1964     9740000    2650  1.222843e+11        30.0        51.6"
      ]
     },
     "execution_count": 54,
     "metadata": {},
     "output_type": "execute_result"
    }
   ],
   "source": [
    "dfx.head()"
   ]
  },
  {
   "cell_type": "code",
   "execution_count": 166,
   "metadata": {},
   "outputs": [],
   "source": [
    "# function for plotting comparsion between one indicators in two years \n",
    "def plotting_two_years_comparsion(data_frame_name, year1, year2, x_label, y_label, title) :\n",
    "    plt.plot(data_frame_name.loc[:,[year1,year2]]);\n",
    "    plt.legend([year1,year2]);\n",
    "    plt.xlabel(x_label);\n",
    "    plt.ylabel(y_label);\n",
    "    plt.title(title);"
   ]
  },
  {
   "cell_type": "code",
   "execution_count": 171,
   "metadata": {},
   "outputs": [],
   "source": [
    "#function for plotting one indicator for one year\n",
    "\n",
    "def plotting_indicator_in_year(data_frame, year, x_label, y_label, title):\n",
    "    plt.plot(data_frame.loc[:,year].sort_values(ascending=False));\n",
    "    plt.legend(y_label)\n",
    "    plt.xlabel(x_label)\n",
    "    plt.ylabel(y_label)\n",
    "    plt.title(title);"
   ]
  },
  {
   "cell_type": "code",
   "execution_count": 137,
   "metadata": {},
   "outputs": [],
   "source": [
    "#function for plotting increase for one indicator and sort the result\n",
    "\n",
    "def plotting_rate_of_increase (data_frame, last_year, first_year, x_label, y_label, title):\n",
    "    df=data_frame.loc[:,last_year] - data_frame.loc[:,first_year]\n",
    "    plt.plot(df.sort_values(ascending=False));\n",
    "    plt.legend(y_label)\n",
    "    plt.xlabel(x_label)\n",
    "    plt.ylabel(y_label)\n",
    "    plt.title(title);     "
   ]
  },
  {
   "cell_type": "code",
   "execution_count": 129,
   "metadata": {},
   "outputs": [],
   "source": [
    "#function to compare two countries for one indicator\n",
    "def compare_two_country(data_frame, country_1, country_2, indicator, color_1, color_2, country_name_1, country_name_2, x_label, y_label, title) :\n",
    "    plt.plot(dfx.loc[(country_1)][indicator], c=color_1, label=country_name_1);    \n",
    "    plt.plot(dfx.loc[(country_2)][indicator], c=color_2, label=country_name_2);\n",
    "    plt.legend()\n",
    "    plt.xlabel(x_label)\n",
    "    plt.ylabel(y_label)\n",
    "    plt.title(title)"
   ]
  },
  {
   "cell_type": "markdown",
   "metadata": {},
   "source": [
    "<a id='eda'></a>\n",
    "## Exploratory Data Analysis\n",
    "\n",
    "### Have certain regions been growing better than other?"
   ]
  },
  {
   "cell_type": "markdown",
   "metadata": {},
   "source": [
    "#### Population indicator"
   ]
  },
  {
   "cell_type": "markdown",
   "metadata": {},
   "source": [
    "##### Population compare 1960 , 2018"
   ]
  },
  {
   "cell_type": "code",
   "execution_count": 167,
   "metadata": {},
   "outputs": [
    {
     "data": {
      "image/png": "[encoded data removed]",
      "text/plain": [
       "<Figure size 432x288 with 1 Axes>"
      ]
     },
     "metadata": {
      "needs_background": "light"
     },
     "output_type": "display_data"
    }
   ],
   "source": [
    "plotting_two_years_comparsion(new_population,\n",
    "                     '1960','2018','country',\n",
    "                     'population',\n",
    "                     'population in 1960 and 2018')"
   ]
  },
  {
   "cell_type": "markdown",
   "metadata": {},
   "source": [
    "That figer showes that how population increase in most of the countries from 1960 to 2018 country in X axe and population in y axes"
   ]
  },
  {
   "cell_type": "code",
   "execution_count": 168,
   "metadata": {},
   "outputs": [
    {
     "data": {
      "text/plain": [
       "4534244700"
      ]
     },
     "execution_count": 168,
     "metadata": {},
     "output_type": "execute_result"
    }
   ],
   "source": [
    "new_population.loc[:,'2018'].sum()-new_population.loc[:,'1960'].sum()"
   ]
  },
  {
   "cell_type": "markdown",
   "metadata": {},
   "source": [
    "Population for all countries increase buy 4534244700 pepole thorw 1960 to 2018"
   ]
  },
  {
   "cell_type": "markdown",
   "metadata": {},
   "source": [
    "##### Population in 1960"
   ]
  },
  {
   "cell_type": "code",
   "execution_count": 255,
   "metadata": {
    "scrolled": true
   },
   "outputs": [
    {
     "data": {
      "image/png": "[encoded data removed]",
      "text/plain": [
       "<Figure size 432x288 with 1 Axes>"
      ]
     },
     "metadata": {
      "needs_background": "light"
     },
     "output_type": "display_data"
    }
   ],
   "source": [
    "plotting_indicator_in_year(new_population,'1960', 'country', 'population', 'population in 1960')"
   ]
  },
  {
   "cell_type": "markdown",
   "metadata": {},
   "source": [
    "That figer shows population in 1960 countries for X axe and population for Y axe"
   ]
  },
  {
   "cell_type": "code",
   "execution_count": 59,
   "metadata": {},
   "outputs": [
    {
     "data": {
      "text/plain": [
       "country  year\n",
       "China    1960    660000000\n",
       "Name: population, dtype: int64"
      ]
     },
     "execution_count": 59,
     "metadata": {},
     "output_type": "execute_result"
    }
   ],
   "source": [
    "dfx.reset_index().groupby(['year'])['population'].max()[0]\n",
    "dfx.query('population==660000000')['population']"
   ]
  },
  {
   "cell_type": "markdown",
   "metadata": {},
   "source": [
    "China was number one in population in 1960"
   ]
  },
  {
   "cell_type": "code",
   "execution_count": 257,
   "metadata": {},
   "outputs": [
    {
     "data": {
      "text/plain": [
       "country   year\n",
       "Kiribati  1960    41200\n",
       "Name: population, dtype: int64"
      ]
     },
     "execution_count": 257,
     "metadata": {},
     "output_type": "execute_result"
    }
   ],
   "source": [
    "dfx.reset_index().groupby(['year'])['population'].min()[0]\n",
    "dfx.query('population==41200')['population']"
   ]
  },
  {
   "cell_type": "markdown",
   "metadata": {},
   "source": [
    "Kiribati was the lowest country in population in 1960"
   ]
  },
  {
   "cell_type": "markdown",
   "metadata": {},
   "source": [
    ">First country China with 660000000<br>\n",
    ">Last country Kiribati with 41200 "
   ]
  },
  {
   "cell_type": "markdown",
   "metadata": {},
   "source": [
    "##### Population in 2018 "
   ]
  },
  {
   "cell_type": "code",
   "execution_count": 258,
   "metadata": {},
   "outputs": [
    {
     "data": {
      "image/png": "[encoded data removed]",
      "text/plain": [
       "<Figure size 432x288 with 1 Axes>"
      ]
     },
     "metadata": {
      "needs_background": "light"
     },
     "output_type": "display_data"
    }
   ],
   "source": [
    "plotting_indicator_in_year(new_population,'2018', 'country', 'population', 'population in 2018')"
   ]
  },
  {
   "cell_type": "markdown",
   "metadata": {},
   "source": [
    "That figer shows population in 2018 countries for X axe and population for Y axe"
   ]
  },
  {
   "cell_type": "code",
   "execution_count": 139,
   "metadata": {},
   "outputs": [
    {
     "data": {
      "text/plain": [
       "country  year\n",
       "China    2018    1430000000\n",
       "Name: population, dtype: int64"
      ]
     },
     "execution_count": 139,
     "metadata": {},
     "output_type": "execute_result"
    }
   ],
   "source": [
    "dfx.reset_index().groupby(['year'])['population'].max()[-1]\n",
    "dfx.query('population==1430000000')['population']"
   ]
  },
  {
   "cell_type": "markdown",
   "metadata": {},
   "source": [
    "China was number one in population in 2018"
   ]
  },
  {
   "cell_type": "code",
   "execution_count": 140,
   "metadata": {},
   "outputs": [
    {
     "data": {
      "text/plain": [
       "country                year\n",
       "Antigua and Barbuda    2018    96300\n",
       "Grenada                1990    96300\n",
       "Micronesia, Fed. Sts.  1990    96300\n",
       "Tonga                  1996    96300\n",
       "Name: population, dtype: int64"
      ]
     },
     "execution_count": 140,
     "metadata": {},
     "output_type": "execute_result"
    }
   ],
   "source": [
    "dfx.reset_index().groupby(['year'])['population'].min()[-1]\n",
    "dfx.query('population==96300')['population']"
   ]
  },
  {
   "cell_type": "markdown",
   "metadata": {},
   "source": [
    "Antigua and Barbuda was the lowest counrty in population in 2018\n",
    "But also the result for that query show us there are other's country has the same population in 1990 and 1996 that mean that countries are grown in population ."
   ]
  },
  {
   "cell_type": "markdown",
   "metadata": {},
   "source": [
    ">First country China with 1430000000<br>\n",
    ">Last country Antigua and Barbuda with 96300 "
   ]
  },
  {
   "cell_type": "markdown",
   "metadata": {},
   "source": [
    "##### rate of  increase"
   ]
  },
  {
   "cell_type": "code",
   "execution_count": 259,
   "metadata": {},
   "outputs": [
    {
     "data": {
      "image/png": "[encoded data removed]",
      "text/plain": [
       "<Figure size 432x288 with 1 Axes>"
      ]
     },
     "metadata": {
      "needs_background": "light"
     },
     "output_type": "display_data"
    }
   ],
   "source": [
    "plotting_rate_of_increase(new_population,'2018', '1960',\n",
    "                          'country', 'population', \n",
    "                          'rate of increase in population')"
   ]
  },
  {
   "cell_type": "markdown",
   "metadata": {},
   "source": [
    "That figer shows population diffrence between 1960 and 2018 after sorting countries for X axe and population for Y axe"
   ]
  },
  {
   "cell_type": "markdown",
   "metadata": {},
   "source": [
    "##### Compare between China the country number one in the popultion and India the country number one in population increase"
   ]
  },
  {
   "cell_type": "code",
   "execution_count": 175,
   "metadata": {},
   "outputs": [
    {
     "data": {
      "image/png": "[encoded data removed]",
      "text/plain": [
       "<Figure size 432x288 with 1 Axes>"
      ]
     },
     "metadata": {
      "needs_background": "light"
     },
     "output_type": "display_data"
    }
   ],
   "source": [
    "compare_two_country(dfx, 'China', 'India', 'population', \n",
    "                    'red', 'green', 'China', 'India', \n",
    "                     'year', 'population', \n",
    "                    'comparison between china & india')"
   ]
  },
  {
   "cell_type": "markdown",
   "metadata": {},
   "source": [
    "India grow in population in fast way more than china and other country"
   ]
  },
  {
   "cell_type": "markdown",
   "metadata": {},
   "source": [
    "#### Income indicator"
   ]
  },
  {
   "cell_type": "markdown",
   "metadata": {},
   "source": [
    "##### Income compare 1960 , 2018"
   ]
  },
  {
   "cell_type": "code",
   "execution_count": 177,
   "metadata": {},
   "outputs": [
    {
     "data": {
      "image/png": "[encoded data removed]",
      "text/plain": [
       "<Figure size 432x288 with 1 Axes>"
      ]
     },
     "metadata": {
      "needs_background": "light"
     },
     "output_type": "display_data"
    }
   ],
   "source": [
    "plotting_two_years_comparsion(new_income,\n",
    "                     '1960','2018','country',\n",
    "                     'income',\n",
    "                     'income in 1960 and 2018')"
   ]
  },
  {
   "cell_type": "markdown",
   "metadata": {},
   "source": [
    "That figer showes that how income increase in most of the countries from 1960 to 2018 country in X axe and income in Y axes"
   ]
  },
  {
   "cell_type": "code",
   "execution_count": 260,
   "metadata": {},
   "outputs": [
    {
     "data": {
      "text/plain": [
       "2300050"
      ]
     },
     "execution_count": 260,
     "metadata": {},
     "output_type": "execute_result"
    }
   ],
   "source": [
    "new_income.loc[:,'2018'].sum()-new_income.loc[:,'1960'].sum()"
   ]
  },
  {
   "cell_type": "markdown",
   "metadata": {},
   "source": [
    "Income for all countries increase buy 2300050$ thorw 1960 to 2018"
   ]
  },
  {
   "cell_type": "markdown",
   "metadata": {},
   "source": [
    "##### Income in 1960"
   ]
  },
  {
   "cell_type": "code",
   "execution_count": 261,
   "metadata": {},
   "outputs": [
    {
     "data": {
      "image/png": "[encoded data removed]",
      "text/plain": [
       "<Figure size 432x288 with 1 Axes>"
      ]
     },
     "metadata": {
      "needs_background": "light"
     },
     "output_type": "display_data"
    }
   ],
   "source": [
    "plotting_indicator_in_year(new_income,'1960', 'country', 'income', 'income in 1960')"
   ]
  },
  {
   "cell_type": "markdown",
   "metadata": {},
   "source": [
    "That figer shows income in 1960 countries for X axe and population for Y"
   ]
  },
  {
   "cell_type": "code",
   "execution_count": 180,
   "metadata": {},
   "outputs": [
    {
     "data": {
      "text/plain": [
       "country  year\n",
       "Brunei   1960    74700\n",
       "Name: income, dtype: int64"
      ]
     },
     "execution_count": 180,
     "metadata": {},
     "output_type": "execute_result"
    }
   ],
   "source": [
    "dfx.reset_index().groupby(['year'])['income'].max()[0]\n",
    "dfx.query('income==74700')['income']"
   ]
  },
  {
   "cell_type": "markdown",
   "metadata": {},
   "source": [
    "Brunei was number one in income in 1960"
   ]
  },
  {
   "cell_type": "code",
   "execution_count": 181,
   "metadata": {},
   "outputs": [
    {
     "data": {
      "text/plain": [
       "country     year\n",
       "Mozambique  1960    404\n",
       "Name: income, dtype: int64"
      ]
     },
     "execution_count": 181,
     "metadata": {},
     "output_type": "execute_result"
    }
   ],
   "source": [
    "dfx.reset_index().groupby(['year'])['income'].min()[0]\n",
    "dfx.query('income==404')['income']"
   ]
  },
  {
   "cell_type": "markdown",
   "metadata": {},
   "source": [
    "Mozambique was the lowest country in income in 1960"
   ]
  },
  {
   "cell_type": "markdown",
   "metadata": {},
   "source": [
    ">First country Brunei with 74700<br>\n",
    ">Last country Mozambique with 404 "
   ]
  },
  {
   "cell_type": "markdown",
   "metadata": {},
   "source": [
    "##### Income in 2018"
   ]
  },
  {
   "cell_type": "code",
   "execution_count": 182,
   "metadata": {},
   "outputs": [
    {
     "data": {
      "image/png": "[encoded data removed]",
      "text/plain": [
       "<Figure size 432x288 with 1 Axes>"
      ]
     },
     "metadata": {
      "needs_background": "light"
     },
     "output_type": "display_data"
    }
   ],
   "source": [
    "plotting_indicator_in_year(new_income,'2018', 'country', 'income', 'income in 2018')"
   ]
  },
  {
   "cell_type": "markdown",
   "metadata": {},
   "source": [
    "That figer shows income in 2018 countries for X axe and population for Y"
   ]
  },
  {
   "cell_type": "code",
   "execution_count": 262,
   "metadata": {},
   "outputs": [
    {
     "data": {
      "text/plain": [
       "country  year\n",
       "Qatar    2018    113000\n",
       "Name: income, dtype: int64"
      ]
     },
     "execution_count": 262,
     "metadata": {},
     "output_type": "execute_result"
    }
   ],
   "source": [
    "dfx.reset_index().groupby(['year'])['income'].max()[-1]\n",
    "dfx.query('income== 113000 & year==\"2018\"')['income']"
   ]
  },
  {
   "cell_type": "markdown",
   "metadata": {},
   "source": [
    "Qatar was number one in income in 2018"
   ]
  },
  {
   "cell_type": "code",
   "execution_count": 263,
   "metadata": {},
   "outputs": [
    {
     "data": {
      "text/plain": [
       "country  year\n",
       "Burundi  2018    660\n",
       "Name: income, dtype: int64"
      ]
     },
     "execution_count": 263,
     "metadata": {},
     "output_type": "execute_result"
    }
   ],
   "source": [
    "dfx.reset_index().groupby(['year'])['income'].min()[-1]\n",
    "dfx.query('income==660 & year==\"2018\"')['income']"
   ]
  },
  {
   "cell_type": "markdown",
   "metadata": {},
   "source": [
    "Burundi was the lowest counrty in population in 2018"
   ]
  },
  {
   "cell_type": "markdown",
   "metadata": {},
   "source": [
    ">First country Qatar with 113000<br>\n",
    ">Last country Burundi with 660 "
   ]
  },
  {
   "cell_type": "markdown",
   "metadata": {},
   "source": [
    "##### rate of  increase "
   ]
  },
  {
   "cell_type": "code",
   "execution_count": 185,
   "metadata": {},
   "outputs": [
    {
     "data": {
      "image/png": "[encoded data removed]",
      "text/plain": [
       "<Figure size 432x288 with 1 Axes>"
      ]
     },
     "metadata": {
      "needs_background": "light"
     },
     "output_type": "display_data"
    }
   ],
   "source": [
    "plotting_rate_of_increase(new_income,'2018', '1960',\n",
    "                          'country', 'income', \n",
    "                          'rate of increase in income')"
   ]
  },
  {
   "cell_type": "markdown",
   "metadata": {},
   "source": [
    "That figer shows income diffrence between 1960 and 2018 after sorting countries for X axe and population for Y axe"
   ]
  },
  {
   "cell_type": "code",
   "execution_count": 186,
   "metadata": {},
   "outputs": [
    {
     "data": {
      "image/png": "[encoded data removed]",
      "text/plain": [
       "<Figure size 432x288 with 1 Axes>"
      ]
     },
     "metadata": {
      "needs_background": "light"
     },
     "output_type": "display_data"
    }
   ],
   "source": [
    "compare_two_country(dfx, 'Brunei', 'Qatar', 'income', \n",
    "                    'red', 'green', 'Brunei', 'Qatar', \n",
    "                     'year', 'income', \n",
    "                    'comparison between Brunei & Qatar')"
   ]
  },
  {
   "cell_type": "markdown",
   "metadata": {},
   "source": [
    "Compare between Brunei the country number one in the income in 1960 and Qatar the country number one in income increase and in income for 2018"
   ]
  },
  {
   "cell_type": "markdown",
   "metadata": {},
   "source": [
    "#### Gdp indicator"
   ]
  },
  {
   "cell_type": "markdown",
   "metadata": {},
   "source": [
    "##### Gdp compare 1960 , 2018 "
   ]
  },
  {
   "cell_type": "code",
   "execution_count": 187,
   "metadata": {
    "scrolled": true
   },
   "outputs": [
    {
     "data": {
      "image/png": "[encoded data removed]",
      "text/plain": [
       "<Figure size 432x288 with 1 Axes>"
      ]
     },
     "metadata": {
      "needs_background": "light"
     },
     "output_type": "display_data"
    }
   ],
   "source": [
    "plotting_two_years_comparsion(new_gdp,\n",
    "                     '1960','2018','country',\n",
    "                     'gdp',\n",
    "                     'gdp in 1960 and 2018')"
   ]
  },
  {
   "cell_type": "markdown",
   "metadata": {},
   "source": [
    "That figer showes that how gdp increase in most of the countries from 1960 to 2018 country in X axe and gdp in y axes"
   ]
  },
  {
   "cell_type": "code",
   "execution_count": 264,
   "metadata": {},
   "outputs": [
    {
     "data": {
      "text/plain": [
       "64738808586115.47"
      ]
     },
     "execution_count": 264,
     "metadata": {},
     "output_type": "execute_result"
    }
   ],
   "source": [
    "new_gdp.loc[:,'2018'].sum()-new_gdp.loc[:,'1960'].sum()"
   ]
  },
  {
   "cell_type": "markdown",
   "metadata": {},
   "source": [
    "Gdp for all countries increase buy 64738808586115.47$ thorw 1960 to 2018"
   ]
  },
  {
   "cell_type": "markdown",
   "metadata": {},
   "source": [
    "##### Gdp in 1960 "
   ]
  },
  {
   "cell_type": "code",
   "execution_count": 265,
   "metadata": {},
   "outputs": [
    {
     "data": {
      "image/png": "[encoded data removed]",
      "text/plain": [
       "<Figure size 432x288 with 1 Axes>"
      ]
     },
     "metadata": {
      "needs_background": "light"
     },
     "output_type": "display_data"
    }
   ],
   "source": [
    "plotting_indicator_in_year(new_gdp,'1960', 'country', 'gdp', 'gdp in 1960')"
   ]
  },
  {
   "cell_type": "markdown",
   "metadata": {},
   "source": [
    "That figer shows gdp in 1960 countries for X axe and gdp for Y"
   ]
  },
  {
   "cell_type": "code",
   "execution_count": 190,
   "metadata": {},
   "outputs": [
    {
     "data": {
      "text/plain": [
       "country        year\n",
       "Germany        2001    3.170000e+12\n",
       "United States  1960    3.170000e+12\n",
       "Name: gdp, dtype: float64"
      ]
     },
     "execution_count": 190,
     "metadata": {},
     "output_type": "execute_result"
    }
   ],
   "source": [
    "dfx.reset_index().groupby(['year'])['gdp'].max()[0]\n",
    "dfx.query('gdp== 3170000000000.0')['gdp']"
   ]
  },
  {
   "cell_type": "markdown",
   "metadata": {},
   "source": [
    "United States was number one in gdp in 1960 but on the other side germany reach that number in 2001\n",
    "lets see how germany grown in gdp in 1960"
   ]
  },
  {
   "cell_type": "code",
   "execution_count": 281,
   "metadata": {},
   "outputs": [
    {
     "data": {
      "text/plain": [
       "country  year\n",
       "Germany  1960    1.010542e+11\n",
       "Name: gdp, dtype: float64"
      ]
     },
     "execution_count": 281,
     "metadata": {},
     "output_type": "execute_result"
    }
   ],
   "source": [
    "dfx.query('country==\"Germany\" & year==\"1960\"')['gdp']"
   ]
  },
  {
   "cell_type": "markdown",
   "metadata": {},
   "source": [
    "Germany grown from 1.010542e+11 in 1960 to 3.170000e+12 in 2001"
   ]
  },
  {
   "cell_type": "code",
   "execution_count": 282,
   "metadata": {},
   "outputs": [
    {
     "data": {
      "text/plain": [
       "country  year\n",
       "Belize   1960    99400000.0\n",
       "Name: gdp, dtype: float64"
      ]
     },
     "execution_count": 282,
     "metadata": {},
     "output_type": "execute_result"
    }
   ],
   "source": [
    "dfx.reset_index().groupby(['year'])['gdp'].min()[0]\n",
    "dfx.query('gdp== 99400000.0')['gdp']"
   ]
  },
  {
   "cell_type": "markdown",
   "metadata": {},
   "source": [
    "Belize was the lowest country in gdp in 1960"
   ]
  },
  {
   "cell_type": "markdown",
   "metadata": {},
   "source": [
    ">First country United States with 3170000000000.0<br>\n",
    ">Last country Belize with 99400000.0 "
   ]
  },
  {
   "cell_type": "markdown",
   "metadata": {},
   "source": [
    "##### Gdp in 2018 "
   ]
  },
  {
   "cell_type": "code",
   "execution_count": 283,
   "metadata": {},
   "outputs": [
    {
     "data": {
      "image/png": "[encoded data removed]",
      "text/plain": [
       "<Figure size 432x288 with 1 Axes>"
      ]
     },
     "metadata": {
      "needs_background": "light"
     },
     "output_type": "display_data"
    }
   ],
   "source": [
    "plotting_indicator_in_year(new_gdp,'2018', 'country', 'gdp', 'gdp in 2018')"
   ]
  },
  {
   "cell_type": "code",
   "execution_count": 284,
   "metadata": {},
   "outputs": [
    {
     "data": {
      "text/plain": [
       "country        year\n",
       "United States  2018    1.790000e+13\n",
       "Name: gdp, dtype: float64"
      ]
     },
     "execution_count": 284,
     "metadata": {},
     "output_type": "execute_result"
    }
   ],
   "source": [
    "dfx.reset_index().groupby(['year'])['gdp'].max()[-1]\n",
    "dfx.query('gdp== 17900000000000.0')['gdp']"
   ]
  },
  {
   "cell_type": "markdown",
   "metadata": {},
   "source": [
    "United State was number one in gdp in 2018"
   ]
  },
  {
   "cell_type": "code",
   "execution_count": 287,
   "metadata": {},
   "outputs": [
    {
     "data": {
      "text/plain": [
       "country   year\n",
       "Kiribati  2018    206000000.0\n",
       "Name: gdp, dtype: float64"
      ]
     },
     "execution_count": 287,
     "metadata": {},
     "output_type": "execute_result"
    }
   ],
   "source": [
    "dfx.reset_index().groupby(['year'])['gdp'].min()[-1]\n",
    "dfx.query('gdp== 206000000.0 & year==\"2018\"')['gdp']"
   ]
  },
  {
   "cell_type": "markdown",
   "metadata": {},
   "source": [
    "Kiribati was the lowest country in gdp in 2018"
   ]
  },
  {
   "cell_type": "markdown",
   "metadata": {},
   "source": [
    ">First country United States with 17900000000000.0<br>\n",
    ">Last country Kiribati with 206000000.0"
   ]
  },
  {
   "cell_type": "markdown",
   "metadata": {},
   "source": [
    "##### rate of  increase "
   ]
  },
  {
   "cell_type": "code",
   "execution_count": 195,
   "metadata": {},
   "outputs": [
    {
     "data": {
      "image/png": "[encoded data removed]",
      "text/plain": [
       "<Figure size 432x288 with 1 Axes>"
      ]
     },
     "metadata": {
      "needs_background": "light"
     },
     "output_type": "display_data"
    }
   ],
   "source": [
    "plotting_rate_of_increase(new_gdp,'2018', '1960',\n",
    "                          'country', 'gdp', \n",
    "                          'rate of increase in Gdp')"
   ]
  },
  {
   "cell_type": "markdown",
   "metadata": {},
   "source": [
    "That figer shows gdp diffrence between 1960 and 2018 after sorting countries for X axe and gdp for Y axe"
   ]
  },
  {
   "cell_type": "code",
   "execution_count": 196,
   "metadata": {},
   "outputs": [
    {
     "data": {
      "image/png": "[encoded data removed]",
      "text/plain": [
       "<Figure size 432x288 with 1 Axes>"
      ]
     },
     "metadata": {
      "needs_background": "light"
     },
     "output_type": "display_data"
    }
   ],
   "source": [
    "compare_two_country(dfx, 'United States', 'China', 'gdp', \n",
    "                    'red', 'green', 'United States', 'China', \n",
    "                     'year', 'gdp', \n",
    "                    'comparison between United States & China')"
   ]
  },
  {
   "cell_type": "markdown",
   "metadata": {},
   "source": [
    "Compare between United States the country number one in the Gdp in 1960 and 2018 and China the country number two in Gdp increase"
   ]
  },
  {
   "cell_type": "markdown",
   "metadata": {},
   "source": [
    "United States growth  for gdp from 1960 till 2018"
   ]
  },
  {
   "cell_type": "markdown",
   "metadata": {},
   "source": [
    "#### Death_rate indicator"
   ]
  },
  {
   "cell_type": "markdown",
   "metadata": {},
   "source": [
    "#####  Death_rate compare 1960 , 2018 "
   ]
  },
  {
   "cell_type": "code",
   "execution_count": 197,
   "metadata": {},
   "outputs": [
    {
     "data": {
      "image/png": "[encoded data removed]",
      "text/plain": [
       "<Figure size 432x288 with 1 Axes>"
      ]
     },
     "metadata": {
      "needs_background": "light"
     },
     "output_type": "display_data"
    }
   ],
   "source": [
    "plotting_two_years_comparsion(new_death_rate,\n",
    "                     '1960','2018','country',\n",
    "                     'death_rate',\n",
    "                     'death_rate in 1960 and 2018')"
   ]
  },
  {
   "cell_type": "markdown",
   "metadata": {},
   "source": [
    "That figer showes that how death rate decrease in most of the countries from 1960 to 2018 country in X axe and death rate in y axes"
   ]
  },
  {
   "cell_type": "code",
   "execution_count": 289,
   "metadata": {},
   "outputs": [
    {
     "data": {
      "text/plain": [
       "-1575.7800000000002"
      ]
     },
     "execution_count": 289,
     "metadata": {},
     "output_type": "execute_result"
    }
   ],
   "source": [
    "new_death_rate.loc[:,'2018'].sum()-new_death_rate.loc[:,'1960'].sum()"
   ]
  },
  {
   "cell_type": "markdown",
   "metadata": {},
   "source": [
    "Death Rate for all countries decreased  buy -1575.7800000000004 thorw 1960 to 2018"
   ]
  },
  {
   "cell_type": "markdown",
   "metadata": {},
   "source": [
    "##### Death_rate in 1960 "
   ]
  },
  {
   "cell_type": "code",
   "execution_count": 290,
   "metadata": {},
   "outputs": [
    {
     "data": {
      "image/png": "[encoded data removed]",
      "text/plain": [
       "<Figure size 432x288 with 1 Axes>"
      ]
     },
     "metadata": {
      "needs_background": "light"
     },
     "output_type": "display_data"
    }
   ],
   "source": [
    "plotting_indicator_in_year(new_death_rate,'1960', 'country', 'death_rate', 'death rate in 1960')"
   ]
  },
  {
   "cell_type": "markdown",
   "metadata": {},
   "source": [
    "That figer shows death rate in 1960 countries for X axe and death_rate for Y"
   ]
  },
  {
   "cell_type": "code",
   "execution_count": 92,
   "metadata": {},
   "outputs": [
    {
     "data": {
      "text/plain": [
       "country  year\n",
       "Mali     1960    36.8\n",
       "Name: death_rate, dtype: float64"
      ]
     },
     "execution_count": 92,
     "metadata": {},
     "output_type": "execute_result"
    }
   ],
   "source": [
    "dfx.reset_index().groupby(['year'])['death_rate'].max()[0]\n",
    "dfx.query('death_rate== 36.8 ')['death_rate']"
   ]
  },
  {
   "cell_type": "markdown",
   "metadata": {},
   "source": [
    "Mali was number one in death rate in 1960"
   ]
  },
  {
   "cell_type": "code",
   "execution_count": 93,
   "metadata": {},
   "outputs": [
    {
     "data": {
      "text/plain": [
       "country  year\n",
       "Israel   1960    6.03\n",
       "Name: death_rate, dtype: float64"
      ]
     },
     "execution_count": 93,
     "metadata": {},
     "output_type": "execute_result"
    }
   ],
   "source": [
    "dfx.reset_index().groupby(['year'])['death_rate'].min()[0]\n",
    "dfx.query('year==\"1960\"&death_rate== 6.03')['death_rate']"
   ]
  },
  {
   "cell_type": "markdown",
   "metadata": {},
   "source": [
    "Israel was the lowest country in death rate in 1960"
   ]
  },
  {
   "cell_type": "markdown",
   "metadata": {},
   "source": [
    ">First country Mali with 36.8<br>\n",
    ">Last country Israel with 6.03 "
   ]
  },
  {
   "cell_type": "markdown",
   "metadata": {},
   "source": [
    "##### Death_rate in 2018 "
   ]
  },
  {
   "cell_type": "code",
   "execution_count": 199,
   "metadata": {},
   "outputs": [
    {
     "data": {
      "image/png": "[encoded data removed]",
      "text/plain": [
       "<Figure size 432x288 with 1 Axes>"
      ]
     },
     "metadata": {
      "needs_background": "light"
     },
     "output_type": "display_data"
    }
   ],
   "source": [
    "plotting_indicator_in_year(new_death_rate,'2018', 'country', 'death_rate', 'death rate in 2018')"
   ]
  },
  {
   "cell_type": "markdown",
   "metadata": {},
   "source": [
    "That figer shows death rate in 2018 countries for X axe and death_rate for Y"
   ]
  },
  {
   "cell_type": "code",
   "execution_count": 95,
   "metadata": {},
   "outputs": [
    {
     "data": {
      "text/plain": [
       "country   year\n",
       "Bulgaria  2018    15.4\n",
       "Name: death_rate, dtype: float64"
      ]
     },
     "execution_count": 95,
     "metadata": {},
     "output_type": "execute_result"
    }
   ],
   "source": [
    "dfx.reset_index().groupby(['year'])['death_rate'].max()[-1]\n",
    "dfx.query('year==\"2018\" & death_rate== 15.4')['death_rate']"
   ]
  },
  {
   "cell_type": "markdown",
   "metadata": {},
   "source": [
    "Bulgaria was number one in death rate in 2018"
   ]
  },
  {
   "cell_type": "code",
   "execution_count": 293,
   "metadata": {},
   "outputs": [
    {
     "data": {
      "text/plain": [
       "country  year\n",
       "Qatar    2018    1.2\n",
       "Name: death_rate, dtype: float64"
      ]
     },
     "execution_count": 293,
     "metadata": {},
     "output_type": "execute_result"
    }
   ],
   "source": [
    "dfx.reset_index().groupby(['year'])['death_rate'].min()[-1]\n",
    "dfx.query('death_rate== 1.2')['death_rate']"
   ]
  },
  {
   "cell_type": "markdown",
   "metadata": {},
   "source": [
    "Qatar was the lowest country in death rate in 2018"
   ]
  },
  {
   "cell_type": "markdown",
   "metadata": {},
   "source": [
    ">First country Bulgaria with 15.4<br>\n",
    ">Last country Qatar with 1.2 "
   ]
  },
  {
   "cell_type": "markdown",
   "metadata": {},
   "source": [
    "##### rate of  decrease  "
   ]
  },
  {
   "cell_type": "code",
   "execution_count": 294,
   "metadata": {},
   "outputs": [
    {
     "data": {
      "image/png": "[encoded data removed]",
      "text/plain": [
       "<Figure size 432x288 with 1 Axes>"
      ]
     },
     "metadata": {
      "needs_background": "light"
     },
     "output_type": "display_data"
    }
   ],
   "source": [
    "plotting_rate_of_increase(new_death_rate,'2018', '1960',\n",
    "                          'country', 'death_rate', \n",
    "                          'rate of increase in death_rate')"
   ]
  },
  {
   "cell_type": "markdown",
   "metadata": {},
   "source": [
    "That figer shows death rate diffrence between 1960 and 2018 after sorting countries for X axe and death rate for Y axe"
   ]
  },
  {
   "cell_type": "code",
   "execution_count": 295,
   "metadata": {},
   "outputs": [
    {
     "data": {
      "image/png": "[encoded data removed]",
      "text/plain": [
       "<Figure size 432x288 with 1 Axes>"
      ]
     },
     "metadata": {
      "needs_background": "light"
     },
     "output_type": "display_data"
    }
   ],
   "source": [
    "compare_two_country(dfx, 'Bulgaria', 'Mali', 'death_rate', \n",
    "                    'red', 'green', 'Bulgaria', 'Mali', \n",
    "                     'year', 'death_rate', \n",
    "                    'comparison between Bulgaria & Mali')"
   ]
  },
  {
   "cell_type": "markdown",
   "metadata": {},
   "source": [
    "Compare between Bulgaria and Mali "
   ]
  },
  {
   "cell_type": "code",
   "execution_count": 210,
   "metadata": {},
   "outputs": [
    {
     "data": {
      "text/plain": [
       "country  year\n",
       "Mali     1960    36.8\n",
       "Name: death_rate, dtype: float64"
      ]
     },
     "execution_count": 210,
     "metadata": {},
     "output_type": "execute_result"
    }
   ],
   "source": [
    "dfx.query('year==\"1960\" & country== \"Mali\"')['death_rate']"
   ]
  },
  {
   "cell_type": "code",
   "execution_count": 211,
   "metadata": {},
   "outputs": [
    {
     "data": {
      "text/plain": [
       "country  year\n",
       "Mali     2018    9.69\n",
       "Name: death_rate, dtype: float64"
      ]
     },
     "execution_count": 211,
     "metadata": {},
     "output_type": "execute_result"
    }
   ],
   "source": [
    "dfx.query('year==\"2018\" & country== \"Mali\"')['death_rate']"
   ]
  },
  {
   "cell_type": "code",
   "execution_count": 212,
   "metadata": {},
   "outputs": [
    {
     "data": {
      "text/plain": [
       "country   year\n",
       "Bulgaria  1960    8.49\n",
       "Name: death_rate, dtype: float64"
      ]
     },
     "execution_count": 212,
     "metadata": {},
     "output_type": "execute_result"
    }
   ],
   "source": [
    "dfx.query('year==\"1960\" & country== \"Bulgaria\"')['death_rate']"
   ]
  },
  {
   "cell_type": "code",
   "execution_count": 213,
   "metadata": {},
   "outputs": [
    {
     "data": {
      "text/plain": [
       "country   year\n",
       "Bulgaria  2018    15.4\n",
       "Name: death_rate, dtype: float64"
      ]
     },
     "execution_count": 213,
     "metadata": {},
     "output_type": "execute_result"
    }
   ],
   "source": [
    "dfx.query('year==\"2018\" & country== \"Bulgaria\"')['death_rate']"
   ]
  },
  {
   "cell_type": "markdown",
   "metadata": {},
   "source": [
    ">Mali decrease death_rate from 36.8 in 1960 to 9.69 in 2018<br> \n",
    ">Bulgaria incresed death_rate from 8.49 in 1960 to 15.4  "
   ]
  },
  {
   "cell_type": "markdown",
   "metadata": {},
   "source": [
    "#### Birth_rate indicator"
   ]
  },
  {
   "cell_type": "markdown",
   "metadata": {},
   "source": [
    "##### Birth_rate compare 1960 , 2018 "
   ]
  },
  {
   "cell_type": "code",
   "execution_count": 214,
   "metadata": {},
   "outputs": [
    {
     "data": {
      "image/png": "[encoded data removed]",
      "text/plain": [
       "<Figure size 432x288 with 1 Axes>"
      ]
     },
     "metadata": {
      "needs_background": "light"
     },
     "output_type": "display_data"
    }
   ],
   "source": [
    "plotting_two_years_comparsion(new_birth_rate,\n",
    "                     '1960','2018','country',\n",
    "                     'birth_rate',\n",
    "                     'birth_rate in 1960 and 2018')"
   ]
  },
  {
   "cell_type": "markdown",
   "metadata": {},
   "source": [
    "That figer showes that how birth rate decrease in most of the countries from 1960 to 2018 country in X axe and population in y axes"
   ]
  },
  {
   "cell_type": "code",
   "execution_count": 291,
   "metadata": {},
   "outputs": [
    {
     "data": {
      "text/plain": [
       "749.9599999999996"
      ]
     },
     "execution_count": 291,
     "metadata": {},
     "output_type": "execute_result"
    }
   ],
   "source": [
    "new_birth_rate.loc[:,'2018'].sum()-new_death_rate.loc[:,'1960'].sum()"
   ]
  },
  {
   "cell_type": "markdown",
   "metadata": {},
   "source": [
    "Birth Rate for all countries increase buy 749.96 thorw 1960 to 2018"
   ]
  },
  {
   "cell_type": "markdown",
   "metadata": {},
   "source": [
    "##### Birth_rate in 1960 "
   ]
  },
  {
   "cell_type": "code",
   "execution_count": 292,
   "metadata": {},
   "outputs": [
    {
     "data": {
      "image/png": "[encoded data removed]",
      "text/plain": [
       "<Figure size 432x288 with 1 Axes>"
      ]
     },
     "metadata": {
      "needs_background": "light"
     },
     "output_type": "display_data"
    }
   ],
   "source": [
    "plotting_indicator_in_year(new_birth_rate,'1960', 'country', 'birth_rate', 'birth rate in 1960')"
   ]
  },
  {
   "cell_type": "markdown",
   "metadata": {},
   "source": [
    "That figer shows birth rate in 1960 countries for X axe and birth rate for Y"
   ]
  },
  {
   "cell_type": "code",
   "execution_count": 217,
   "metadata": {},
   "outputs": [
    {
     "data": {
      "text/plain": [
       "country  year\n",
       "Niger    1960    58.1\n",
       "Name: birth_rate, dtype: float64"
      ]
     },
     "execution_count": 217,
     "metadata": {},
     "output_type": "execute_result"
    }
   ],
   "source": [
    "dfx.reset_index().groupby(['year'])['birth_rate'].max()[0]\n",
    "dfx.query('birth_rate== 58.1 ')['birth_rate']"
   ]
  },
  {
   "cell_type": "markdown",
   "metadata": {},
   "source": [
    "Niger was number one in birth rate in 1960"
   ]
  },
  {
   "cell_type": "code",
   "execution_count": 296,
   "metadata": {},
   "outputs": [
    {
     "data": {
      "text/plain": [
       "country         year\n",
       "Czech Republic  1960    13.4\n",
       "Name: birth_rate, dtype: float64"
      ]
     },
     "execution_count": 296,
     "metadata": {},
     "output_type": "execute_result"
    }
   ],
   "source": [
    "dfx.reset_index().groupby(['year'])['birth_rate'].min()[0]\n",
    "dfx.query('year==\"1960\"&birth_rate== 13.4')['birth_rate']"
   ]
  },
  {
   "cell_type": "markdown",
   "metadata": {},
   "source": [
    "Czech Republic was the lowest country in birth rate in 1960"
   ]
  },
  {
   "cell_type": "markdown",
   "metadata": {},
   "source": [
    ">First country Niger with 58.1<br>\n",
    ">Last country Czech Republic with 13.4 "
   ]
  },
  {
   "cell_type": "markdown",
   "metadata": {},
   "source": [
    "##### Birth_rate in 2018 "
   ]
  },
  {
   "cell_type": "code",
   "execution_count": 297,
   "metadata": {},
   "outputs": [
    {
     "data": {
      "image/png": "[encoded data removed]",
      "text/plain": [
       "<Figure size 432x288 with 1 Axes>"
      ]
     },
     "metadata": {
      "needs_background": "light"
     },
     "output_type": "display_data"
    }
   ],
   "source": [
    "plotting_indicator_in_year(new_birth_rate,'1960', 'country', 'birth_rate', 'birth rate in 1960')"
   ]
  },
  {
   "cell_type": "markdown",
   "metadata": {},
   "source": [
    "That figer shows birth rate in 2018 countries for X axe and birth rate for Y"
   ]
  },
  {
   "cell_type": "code",
   "execution_count": 298,
   "metadata": {},
   "outputs": [
    {
     "data": {
      "text/plain": [
       "country  year\n",
       "Niger    2018    46.1\n",
       "Name: birth_rate, dtype: float64"
      ]
     },
     "execution_count": 298,
     "metadata": {},
     "output_type": "execute_result"
    }
   ],
   "source": [
    "dfx.reset_index().groupby(['year'])['birth_rate'].max()[-1]\n",
    "dfx.query('year==\"2018\" & birth_rate== 46.1')['birth_rate']"
   ]
  },
  {
   "cell_type": "markdown",
   "metadata": {},
   "source": [
    "Niger was number one in birth rate in 2018"
   ]
  },
  {
   "cell_type": "code",
   "execution_count": 221,
   "metadata": {},
   "outputs": [
    {
     "data": {
      "text/plain": [
       "country      year\n",
       "South Korea  2018    6.4\n",
       "Name: birth_rate, dtype: float64"
      ]
     },
     "execution_count": 221,
     "metadata": {},
     "output_type": "execute_result"
    }
   ],
   "source": [
    "dfx.reset_index().groupby(['year'])['birth_rate'].min()[-1]\n",
    "dfx.query('birth_rate== 6.4')['birth_rate']"
   ]
  },
  {
   "cell_type": "markdown",
   "metadata": {},
   "source": [
    "South Korea was the lowest counrty in birth rate in 2018"
   ]
  },
  {
   "cell_type": "markdown",
   "metadata": {},
   "source": [
    ">First country Niger with 46.1<br>\n",
    ">Last country South Korea with 6.4 "
   ]
  },
  {
   "cell_type": "markdown",
   "metadata": {},
   "source": [
    "##### rate of  increase  "
   ]
  },
  {
   "cell_type": "code",
   "execution_count": 222,
   "metadata": {},
   "outputs": [
    {
     "data": {
      "image/png": "[encoded data removed]",
      "text/plain": [
       "<Figure size 432x288 with 1 Axes>"
      ]
     },
     "metadata": {
      "needs_background": "light"
     },
     "output_type": "display_data"
    }
   ],
   "source": [
    "plotting_rate_of_increase(new_birth_rate,'2018', '1960',\n",
    "                          'country', 'birth_rate', \n",
    "                          'rate of increase in birth_rate')"
   ]
  },
  {
   "cell_type": "markdown",
   "metadata": {},
   "source": [
    "That figer shows birth rate diffrence between 1960 and 2018 after sorting countries for X axe and birth rate for Y axe"
   ]
  },
  {
   "cell_type": "code",
   "execution_count": 223,
   "metadata": {},
   "outputs": [
    {
     "data": {
      "image/png": "[encoded data removed]",
      "text/plain": [
       "<Figure size 432x288 with 1 Axes>"
      ]
     },
     "metadata": {
      "needs_background": "light"
     },
     "output_type": "display_data"
    }
   ],
   "source": [
    "compare_two_country(dfx, 'Niger', 'Gabon', 'birth_rate', \n",
    "                    'red', 'green', 'Niger', 'Gabon', \n",
    "                     'year', 'birth_rate', \n",
    "                    'comparison between Niger & Gabon')"
   ]
  },
  {
   "cell_type": "markdown",
   "metadata": {},
   "source": [
    "Compare between Niger the country number one in the Birth_rate for   1960 and 2018 and Gabon the country number one in birth_rate increase  "
   ]
  },
  {
   "cell_type": "code",
   "execution_count": 115,
   "metadata": {},
   "outputs": [
    {
     "data": {
      "text/plain": [
       "country  year\n",
       "Gabon    1960    32.5\n",
       "Name: birth_rate, dtype: float64"
      ]
     },
     "execution_count": 115,
     "metadata": {},
     "output_type": "execute_result"
    }
   ],
   "source": [
    "dfx.query('year==\"1960\" & country==\"Gabon\"')['birth_rate']"
   ]
  },
  {
   "cell_type": "code",
   "execution_count": 116,
   "metadata": {},
   "outputs": [
    {
     "data": {
      "text/plain": [
       "country  year\n",
       "Gabon    2018    31.6\n",
       "Name: birth_rate, dtype: float64"
      ]
     },
     "execution_count": 116,
     "metadata": {},
     "output_type": "execute_result"
    }
   ],
   "source": [
    "dfx.query('year==\"2018\" & country==\"Gabon\"')['birth_rate']"
   ]
  },
  {
   "cell_type": "markdown",
   "metadata": {},
   "source": [
    ">Birth Rate in Niger is decreased from 58.1 in 1960 to 46.1 in 2018\n",
    ">Birth Rate in Gabon is decreased from 32.5 in 1960 to 31.6 in 2018 although it's the country number one in birth_rate increase"
   ]
  },
  {
   "cell_type": "markdown",
   "metadata": {},
   "source": [
    "### Are there trends that can be observed between the selected indicators?"
   ]
  },
  {
   "cell_type": "code",
   "execution_count": 253,
   "metadata": {},
   "outputs": [
    {
     "data": {
      "image/png": "[encoded data removed]",
      "text/plain": [
       "<Figure size 432x288 with 1 Axes>"
      ]
     },
     "metadata": {
      "needs_background": "light"
     },
     "output_type": "display_data"
    }
   ],
   "source": [
    "dp=dfx.reset_index().groupby(['year'])['population'].mean()\n",
    "plt.plot(dp);\n",
    "plt.legend('population')\n",
    "plt.xlabel('year')\n",
    "plt.ylabel('population')\n",
    "plt.title('Avarge population from 1960 and 2018');"
   ]
  },
  {
   "cell_type": "markdown",
   "metadata": {},
   "source": [
    "##### Population for all the data set throw years from 1960 to 2018"
   ]
  },
  {
   "cell_type": "code",
   "execution_count": 252,
   "metadata": {},
   "outputs": [
    {
     "data": {
      "image/png": "[encoded data removed]",
      "text/plain": [
       "<Figure size 432x288 with 1 Axes>"
      ]
     },
     "metadata": {
      "needs_background": "light"
     },
     "output_type": "display_data"
    }
   ],
   "source": [
    "di=dfx.reset_index().groupby(['year'])['income'].mean()\n",
    "plt.plot(di);\n",
    "plt.legend('income')\n",
    "plt.xlabel('year')\n",
    "plt.ylabel('income')\n",
    "plt.title('Avarge income from 1960 and 2018');"
   ]
  },
  {
   "cell_type": "markdown",
   "metadata": {},
   "source": [
    "##### Income for all the data set throw years from 1960 to 2018"
   ]
  },
  {
   "cell_type": "code",
   "execution_count": 251,
   "metadata": {},
   "outputs": [
    {
     "data": {
      "image/png": "[encoded data removed]",
      "text/plain": [
       "<Figure size 432x288 with 1 Axes>"
      ]
     },
     "metadata": {
      "needs_background": "light"
     },
     "output_type": "display_data"
    }
   ],
   "source": [
    "dg=dfx.reset_index().groupby(['year'])['gdp'].mean()\n",
    "plt.plot(dg);\n",
    "plt.legend('gdp')\n",
    "plt.xlabel('year')\n",
    "plt.ylabel('gdp')\n",
    "plt.title('Avarge gdp from 1960 and 2018');"
   ]
  },
  {
   "cell_type": "markdown",
   "metadata": {},
   "source": [
    "##### There are trends between population and income and Gdp "
   ]
  },
  {
   "cell_type": "markdown",
   "metadata": {},
   "source": [
    "##### Gdp for all the data set throw years from 1960 to 2018"
   ]
  },
  {
   "cell_type": "code",
   "execution_count": 250,
   "metadata": {},
   "outputs": [
    {
     "data": {
      "image/png": "[encoded data removed]",
      "text/plain": [
       "<Figure size 432x288 with 1 Axes>"
      ]
     },
     "metadata": {
      "needs_background": "light"
     },
     "output_type": "display_data"
    }
   ],
   "source": [
    "dd=dfx.reset_index().groupby(['year'])['death_rate'].mean()\n",
    "plt.plot(dd);\n",
    "plt.legend('death')\n",
    "plt.xlabel('year')\n",
    "plt.ylabel('death_rate')\n",
    "plt.title('Avarge Death Rate from 1960 and 2018');"
   ]
  },
  {
   "cell_type": "markdown",
   "metadata": {},
   "source": [
    "##### Death Rate for all the data set throw years from 1960 to 2018"
   ]
  },
  {
   "cell_type": "code",
   "execution_count": 249,
   "metadata": {},
   "outputs": [
    {
     "data": {
      "image/png": "[encoded data removed]",
      "text/plain": [
       "<Figure size 432x288 with 1 Axes>"
      ]
     },
     "metadata": {
      "needs_background": "light"
     },
     "output_type": "display_data"
    }
   ],
   "source": [
    "db=dfx.reset_index().groupby(['year'])['birth_rate'].mean()\n",
    "plt.plot(db);\n",
    "plt.legend('birth')\n",
    "plt.xlabel('year')\n",
    "plt.ylabel('birth_rate')\n",
    "plt.title('Avarge Birth Rate from 1960 and 2018');"
   ]
  },
  {
   "cell_type": "markdown",
   "metadata": {},
   "source": [
    "##### Birth Rate for all the data set throw years from 1960 to 2018"
   ]
  },
  {
   "cell_type": "markdown",
   "metadata": {},
   "source": [
    "##### There are trends between Death Rate and Birth Rate "
   ]
  },
  {
   "cell_type": "markdown",
   "metadata": {},
   "source": [
    "<a id='conclusions'></a>\n",
    "## Conclusions"
   ]
  },
  {
   "cell_type": "markdown",
   "metadata": {},
   "source": [
    "#### Results:\n",
    "###### - Population for all countries increase buy 4534244700 pepole thorw 1960 to 2018 .\n",
    "###### - India growing in population in fast way more than china and other country .\n",
    "###### - Income for all countries increase buy 2300050 thorw 1960 to 2018 .\n",
    "###### - Qatar was the biggest growing for income from 1960 to 2018 .\n",
    "###### - Gdp for all countries increase buy 64738808586115.47 thorw 1960 to 2018 .\n",
    "###### - United Stats was the biggest growing for Gdp .\n",
    "###### - Death Rate for all countries decreased buy -1575.7800000000004 thorw 1960 to 2018 .\n",
    "###### - Mali decrease death_rate from 36.8 in 1960 to 9.69 in 2018 .\n",
    "###### - Bulgaria incresed death_rate from 8.49 in 1960 to 15.4 .\n",
    "###### - Birth Rate for all countries increase buy 749.96 thorw 1960 to 2018 . \n",
    "###### - Birth Rate in Niger is decreased from 58.1 in 1960 to 46.1 in 2018 . \n",
    "###### - Birth Rate in Gabon is decreased from 32.5 in 1960 to 31.6 in 2018 , although it's the country number one in birth_rate increase . \n",
    "###### - There are trends between population , income and gdp .   \n",
    "###### - There are trends between death and birth rate .\n",
    "#### Limitations:\n",
    "##### -some data set years from 1960 and other from 1800 droped many columns\n",
    "##### -different number of countries droped many columns\n",
    "##### -too many missing values in some data set fill with mean effect of the accuracy of the result"
   ]
  }
 ],
 "metadata": {
  "kernelspec": {
   "display_name": "Python 3",
   "language": "python",
   "name": "python3"
  },
  "language_info": {
   "codemirror_mode": {
    "name": "ipython",
    "version": 3
   },
   "file_extension": ".py",
   "mimetype": "text/x-python",
   "name": "python",
   "nbconvert_exporter": "python",
   "pygments_lexer": "ipython3",
   "version": "3.7.3"
  }
 },
 "nbformat": 4,
 "nbformat_minor": 2
}
